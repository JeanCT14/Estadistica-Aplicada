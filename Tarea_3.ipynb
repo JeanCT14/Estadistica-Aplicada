{
  "nbformat": 4,
  "nbformat_minor": 0,
  "metadata": {
    "colab": {
      "provenance": []
    },
    "kernelspec": {
      "name": "ir",
      "display_name": "R"
    },
    "language_info": {
      "name": "R"
    }
  },
  "cells": [
    {
      "cell_type": "markdown",
      "source": [
        "# Instrucciones de la tarea\n",
        "\n",
        "De la parte 1 resuelve:\n",
        "\n",
        "- Cálculos con variables aleatorias discretas: 2 problemas: (Problema 1 y Problema 3)\n",
        "- Variables aleatorias continuas y variables aleatorias normales: 2 problemas(Problema 2 y Problema 3)\n",
        "- Cálculos de covarianza y correlación en varios ejemplos: 2 problemas\n",
        "- Variables aleatorias normales y el CLT: 2 problemas (Problema 1 y Problema 4)\n",
        "\n",
        "De la parte 2 de la tarea: Resuelve todos los problemas.\n",
        "\n",
        "Siempre que el resultado sea numérico, guarden su respuesta en una variable."
      ],
      "metadata": {
        "id": "-QgwsKbJKS3n"
      }
    },
    {
      "cell_type": "markdown",
      "source": [
        "# Parte 1\n",
        "\n",
        "---\n",
        "\n",
        "\n",
        "\n",
        "---\n",
        "\n"
      ],
      "metadata": {
        "id": "ryBtEoOAKS6d"
      }
    },
    {
      "cell_type": "markdown",
      "source": [
        "# Cálculos con Variables Aleatorias Discretas\n",
        "\n",
        "### Problema 1\n",
        "\n",
        "El departamento de planificación del condado local requiere que un contratista presente uno, dos, tres, cuatro o cinco formularios (según la naturaleza del proyecto) al solicitar un permiso de construcción. Sea $Y$ el número de formularios necesarios para el siguiente solicitante. Se sabe que la probabilidad de que se requieran $y$ formularios es proporcional a $y$; es decir, $P(Y = y) = ky$ para $y = 1, ..., 5$.\n",
        "\n",
        "#### Parte a)\n",
        "¿Cuál es el valor de k? Guarda tu respuesta como `respuesta1`."
      ],
      "metadata": {
        "id": "4ednVoWQKTAj"
      }
    },
    {
      "cell_type": "markdown",
      "source": [
        "Sabemos, por los axiomas de la probabilidad que:\n",
        "\n",
        "$$ \\sum_{i=1}^{N}P(X=x_i)=1 $$\n",
        "\n",
        "Por lo cual, tenemos lo siguiente:\n",
        "\n",
        "$$\n",
        "\\begin{align*}\n",
        "\\sum_{i=1}^{N}P(Y=y_i)=k+2k+3k+4k+5k&=15k=1\\\\\n",
        "⟹ &15k=1\\\\\n",
        "⟹ &k=\\frac{1}{15}\n",
        "\\end{align*}\n",
        "$$\n",
        "Por lo cual se obtiene el"
      ],
      "metadata": {
        "id": "IkOl3oarK00W"
      }
    },
    {
      "cell_type": "code",
      "source": [
        "respuesta1 <- 1/15"
      ],
      "metadata": {
        "id": "1Wf4FAPRK0-3"
      },
      "execution_count": null,
      "outputs": []
    },
    {
      "cell_type": "markdown",
      "source": [
        "#### Parte B)\n",
        "\n",
        "¿Cuál es la probabilidad de que se requieran como máximo tres formularios? Guarda tu respuesta como `respuesta2`."
      ],
      "metadata": {
        "id": "YDtcSSQPK5kg"
      }
    },
    {
      "cell_type": "markdown",
      "source": [
        "Dado que $P(Y\\leq 3)=P(Y=1)+P(Y=2)+P(Y=3)$ tenemos lo siguiente:\n",
        "\n",
        "$$\n",
        "\\begin{align*}\n",
        "P(Y\\leq 3)=\\frac{1}{15}+\\frac{2}{15}+\\frac{3}{15}=\\frac{6}{15}\n",
        "\\end{align*}\n",
        "$$"
      ],
      "metadata": {
        "id": "-fesKUc9K7Yp"
      }
    },
    {
      "cell_type": "code",
      "source": [
        "respuesta2 <-6/15"
      ],
      "metadata": {
        "id": "jeKfqReEK80D"
      },
      "execution_count": null,
      "outputs": []
    },
    {
      "cell_type": "markdown",
      "source": [
        "#### Parte (c)\n",
        "\n",
        "¿Cuál es la probabilidad de que se requieran entre dos y cuatro formularios (inclusive)? Guarda tu respuesta como `respuesta3`."
      ],
      "metadata": {
        "id": "WKjIJv0yLB35"
      }
    },
    {
      "cell_type": "markdown",
      "source": [
        "Dado que $P(2 \\leq Y\\leq 4)=P(Y=2)+P(Y=3)+P(Y=4) $ tenemos lo siguiente:\n",
        "\n",
        "$$\n",
        "\\begin{align*}\n",
        "P(2 \\leq Y\\leq 4)=\\frac{2}{15}+\\frac{3}{15}+\\frac{4}{15}=\\frac{9}{15}\n",
        "\\end{align*}\n",
        "$$"
      ],
      "metadata": {
        "id": "-fxmn98ELJA6"
      }
    },
    {
      "cell_type": "code",
      "source": [
        "respuesta3 <- 9/15"
      ],
      "metadata": {
        "id": "rITUbPdBLJLV"
      },
      "execution_count": null,
      "outputs": []
    },
    {
      "cell_type": "markdown",
      "source": [
        "#### Parte (d)\n",
        "\n",
        "¿Podría $P(Y = y) = y^2/50$ para $y = 1, ..., 5$ ser el PMF de $Y$? (Recuerda lo que vimos en clase, ¿qué debe de cumplir para ser un PMF... ser mayor que cero, estar normalizado,...) Guarda tu respuesta como VERDADERO o FALSO. Guarda tu respuesta como `respuesta4`."
      ],
      "metadata": {
        "id": "btIzxpdqLKvG"
      }
    },
    {
      "cell_type": "markdown",
      "source": [
        "Sabemos que las PFM deben de cumplir con las siguientes propiedades:\n",
        "\n",
        "Sea $Ω=\\{x_i,x_2,...,x_N\\}$\n",
        "\n",
        "* $\\sum_{i=1}^{N}P(X=x_i)=1 $\n",
        "* $P(X=x_i) \\geq 0$ para todo $x_i \\in \\Omega$\n",
        "\n",
        "La primera propiedad no se cumple, ya que ocurre lo siguiente:\n",
        "\n",
        "$$\n",
        "\\begin{align*}\n",
        "\\sum_{i=1}^N P(Y=y_i)=\\frac{1}{50}+\\frac{4}{50}+\\frac{9}{50}+\\frac{16}{50}+\\frac{25}{50} = \\frac{55}{50}\n",
        "\\end{align*}\n",
        "$$\n",
        "\n",
        "Por lo tanto $P(Y=y)=y^2/50$ no es PMF"
      ],
      "metadata": {
        "id": "0JzvPzXNLZwY"
      }
    },
    {
      "cell_type": "code",
      "source": [
        "respuesta4 <- FALSO"
      ],
      "metadata": {
        "id": "wNvOrlBbLZ4g"
      },
      "execution_count": null,
      "outputs": []
    },
    {
      "cell_type": "markdown",
      "source": [
        "### Problema 2\n",
        "\n",
        "Los individuos A y B juegan una secuencia de partidas de ajedrez hasta que un jugador gana 9 partidas. A gana un juego individual con probabilidad p y B gana un juego con probabilidad 1 − p (es decir, no hay empates). Sea X el número de juegos jugados.\n",
        "\n",
        "#### Parte (a)\n",
        "\n",
        "¿Cuáles son los posibles valores de X? Guarda tu respuesta en el vector `respuesta5`. No te preocupes por el orden."
      ],
      "metadata": {
        "id": "ULl9ySbTLaXi"
      }
    },
    {
      "cell_type": "markdown",
      "source": [],
      "metadata": {
        "id": "j8v3NO5wNTys"
      }
    },
    {
      "cell_type": "code",
      "source": [
        "respuesta5 <-"
      ],
      "metadata": {
        "id": "shEc3M1_NVRi"
      },
      "execution_count": null,
      "outputs": []
    },
    {
      "cell_type": "markdown",
      "source": [
        "#### Parte B)\n",
        "\n",
        "¿Qué expresión para $P(X = x)$ incluye qué distribución conocida? Seleccione el número correspondiente a la distribución correcta como `respuesta6`.\n",
        "\n",
        "1. Distribución Geométrica\n",
        "2. Distribución Binomial\n",
        "3. Distribución de Veneno\n",
        "4. Distribución exponencial\n",
        "5. Distribución Binomial Negativa\n",
        "6. Distribución Normal"
      ],
      "metadata": {
        "id": "GpuNWHoMNWw7"
      }
    },
    {
      "cell_type": "markdown",
      "source": [],
      "metadata": {
        "id": "Q8OBNd2GRV9I"
      }
    },
    {
      "cell_type": "code",
      "source": [
        "respuesta6 <-"
      ],
      "metadata": {
        "id": "nHLlE0DSRWKS"
      },
      "execution_count": null,
      "outputs": []
    },
    {
      "cell_type": "markdown",
      "source": [
        "#### Parte (c)\n",
        "\n",
        "Sea $p = 0.5$. Encuentra $P(X = 12)$. Redondea tu respuesta a cuatro decimales. Guarda tu respuesta como `respuesta7`."
      ],
      "metadata": {
        "id": "EiexbsE5nDZG"
      }
    },
    {
      "cell_type": "markdown",
      "source": [],
      "metadata": {
        "id": "yj32apEZnHru"
      }
    },
    {
      "cell_type": "code",
      "source": [
        "respuesta7 <-"
      ],
      "metadata": {
        "id": "B9rd0EMhnH1o"
      },
      "execution_count": null,
      "outputs": []
    },
    {
      "cell_type": "markdown",
      "source": [
        "### Problema 3\n",
        "\n",
        "Tenga en cuenta la siguiente distribución: X = el primer dígito de un número seleccionado al azar de un libro de contabilidad. Se encontró que el PMF para esta variable aleatoria está definida por: $$ P(X=x) = f(x) = log_{10}\\Big(\\frac{x+1}{x}\\Big), \\\\x=1,2,...,9. $$\n",
        "\n",
        "#### Parte (a)\n",
        "\n",
        "Encuentre E(X). Redondea tu respuesta a dos cifras decimales. Guarde su respuesta como `respuesta8`."
      ],
      "metadata": {
        "id": "4nEN473AnT5q"
      }
    },
    {
      "cell_type": "markdown",
      "source": [
        "Sabemos que el valor esperado está dado por la siguiente expresión:\n",
        "\n",
        "$$\n",
        "\\begin{equation*}\n",
        "E[X]=\\sum_{i=1}^{N}=x_iP(X=x_i)=\\sum_{i=1}^{N}=x_iP_i=x_i log_{10}\\Big(\\frac{x_i+1}{x_i}\\Big)\n",
        "\\end{equation*}\n",
        "$$\n",
        "\n",
        "Por lo tanto, para esta PMF tenemos lo siguiente:\n",
        "\n",
        "$$\n",
        "\\begin{equation*}\n",
        "E[X]=log_{10}\\Big(\\frac{2}{1}\\Big)+2log_{10}\\Big(\\frac{3}{2}\\Big)+3log_{10}\\Big(\\frac{4}{3}\\Big)+4log_{10}\\Big(\\frac{5}{4}\\Big)+5log_{10}\\Big(\\frac{6}{5}\\Big)+6log_{10}\\Big(\\frac{7}{6}\\Big)+7log_{10}\\Big(\\frac{8}{7}\\Big)+8log_{10}\\Big(\\frac{9}{8}\\Big)+9log_{10}\\Big(\\frac{10}{9}\\Big)\n",
        "\\end{equation*}\n",
        "$$\n"
      ],
      "metadata": {
        "id": "ZJqTZy_ynwLV"
      }
    },
    {
      "cell_type": "code",
      "source": [
        "X<-c(1:9)\n",
        "P<-log10((x+1)/x)\n",
        "\n",
        "E<-0\n",
        "for (i in 1:9){\n",
        "  E<-E+X[i]*P[i]\n",
        "}\n",
        "print(paste(\"El valor esperado es:\",round(E,2)))\n",
        "\n",
        "plot(x=x, y=log10((x+1)/x),\n",
        "     type='h', las=1, lwd=6,main=\"P(X)=log10((x+1)/x)\",xlab = \"x\", ylab = \"P(x)\")"
      ],
      "metadata": {
        "colab": {
          "base_uri": "https://localhost:8080/",
          "height": 454
        },
        "id": "OrM7f7xz47HI",
        "outputId": "412946da-ff89-4050-e466-201f26f321df"
      },
      "execution_count": null,
      "outputs": [
        {
          "output_type": "stream",
          "name": "stdout",
          "text": [
            "[1] \"El valor esperado es: 3.44\"\n"
          ]
        },
        {
          "output_type": "display_data",
          "data": {
            "text/plain": [
              "Plot with title “P(X)=log10((x+1)/x)”"
            ],
            "image/png": "[encoded data removed]"
          },
          "metadata": {
            "image/png": {
              "width": 420,
              "height": 420
            }
          }
        }
      ]
    },
    {
      "cell_type": "code",
      "source": [
        "respuesta5 <- 3.44"
      ],
      "metadata": {
        "id": "dxdDd99_nwS7"
      },
      "execution_count": null,
      "outputs": []
    },
    {
      "cell_type": "markdown",
      "source": [
        "### Problema 4\n",
        "\n",
        "Supongamos que tenemos una moneda injusta con una probabilidad de $0,6$ de obtener cara en cualquier lanzamiento. Como es típico en los problemas de lanzamiento de monedas, supon que cada lanzamiento de moneda es independiente.\n",
        "\n",
        "#### Parte (a)\n",
        "\n",
        "¿Cuál es el número esperado de tiros **antes** de obtener una cara? Redondea tu respuesta a dos cifras decimales. Guarde su respuesta como `respuesta9`."
      ],
      "metadata": {
        "id": "0AJreTfKnyHK"
      }
    },
    {
      "cell_type": "markdown",
      "source": [],
      "metadata": {
        "id": "JYj20oSaoEHX"
      }
    },
    {
      "cell_type": "code",
      "source": [
        "respuesta9 <-"
      ],
      "metadata": {
        "id": "ambrDV7noEPy"
      },
      "execution_count": null,
      "outputs": []
    },
    {
      "cell_type": "markdown",
      "source": [
        "#### Parte B)\n",
        "\n",
        "¿Cuántas cruces esperas ver antes de obtener tres caras? Guarda tu respuesta como `respuesta10`.\n",
        "\n",
        "Por ejemplo, imagina que ves las tres caras en la décima prueba. Esto significaría que has visto 2 caras en los primeros 9 intentos seguidos de una cara en el décimo. Entonces tu respuesta sería observar $7$ cruces. Generalice esto a la prueba $i^{th}$."
      ],
      "metadata": {
        "id": "P24NAzYLoF6S"
      }
    },
    {
      "cell_type": "markdown",
      "source": [],
      "metadata": {
        "id": "rwu5aprYoLDZ"
      }
    },
    {
      "cell_type": "code",
      "source": [
        "respuesta10 <-"
      ],
      "metadata": {
        "id": "gC9Jyg8Pofby"
      },
      "execution_count": null,
      "outputs": []
    },
    {
      "cell_type": "markdown",
      "source": [
        "$\\textbf{En este punto ya me dio flojera seguir poniendo que guarden su respuesta en una variable, pero háganlo cuando el resultado sea numérico}$"
      ],
      "metadata": {
        "id": "JKjSOEm44ZLw"
      }
    },
    {
      "cell_type": "markdown",
      "source": [
        "# Variables aleatorias continuas y variables aleatorias normales"
      ],
      "metadata": {
        "id": "hfddNgZ6rYG9"
      }
    },
    {
      "cell_type": "markdown",
      "source": [
        "### Problema 1\n",
        "Supon que los accidentes automovilísticos en una ciudad tienen una distribución de Poisson, con un promedio de 5 por semana (es decir, λ = 5). Además, toma en cuenta que, dado un proceso de Poisson con media λ, el tiempo de espera hasta el primer resultado tiene una distribución exponencial con media $1/λ$.\n",
        "\n",
        "**a)** ¿Cuál es la probabilidad de que ocurran más de 6 accidentes en una semana dada? Redondea tu respuesta a cuatro decimales."
      ],
      "metadata": {
        "id": "Y42qtK5DrZJQ"
      }
    },
    {
      "cell_type": "markdown",
      "source": [],
      "metadata": {
        "id": "LVSTlqlurnG3"
      }
    },
    {
      "cell_type": "code",
      "source": [],
      "metadata": {
        "id": "fiF5Raw-rnPL"
      },
      "execution_count": null,
      "outputs": []
    },
    {
      "cell_type": "markdown",
      "source": [
        "**b)** ¿Cuál es la probabilidad de que el tiempo hasta un accidente sea por lo menos una semana? Da la respuesta exacta o redondea tu respuesta a cuatro decimales."
      ],
      "metadata": {
        "id": "yvCcdnSsrnbg"
      }
    },
    {
      "cell_type": "markdown",
      "source": [],
      "metadata": {
        "id": "caj2KCpkrtdS"
      }
    },
    {
      "cell_type": "code",
      "source": [],
      "metadata": {
        "id": "bofG64ymrtlp"
      },
      "execution_count": null,
      "outputs": []
    },
    {
      "cell_type": "markdown",
      "source": [
        "**c)** Supon que no han ocurrido accidentes durante dos semanas. ¿Cuál es la probabilidad de que no ocurra ningún accidente durante otras dos semanas? Da el valor exacto o redondea tu respuesta a seis decimales."
      ],
      "metadata": {
        "id": "jfjZo-jIrtt0"
      }
    },
    {
      "cell_type": "markdown",
      "source": [],
      "metadata": {
        "id": "WR_NlUkUr0-S"
      }
    },
    {
      "cell_type": "code",
      "source": [],
      "metadata": {
        "id": "8Mcwgk1Or1Gd"
      },
      "execution_count": null,
      "outputs": []
    },
    {
      "cell_type": "markdown",
      "source": [
        "### Problema 2\n",
        "Sea X = el resultado cuando se lanza un dado justo una vez. Supon que, antes de lanzar el dado, se te ofrece una opción: Opción #1: una garantía de $1/4$ de dólares (cualquiera que sea el resultado de la tirada); Opción #2: $h(X) = 1/X$ dólares. ¿Qué opción preferirías?"
      ],
      "metadata": {
        "id": "Go-4Q2epr1Nm"
      }
    },
    {
      "cell_type": "markdown",
      "source": [
        "Escogería la opción 2, ya que, qebido a que el dado es justo, cualquiera de las caras pueden caer. Si cae alguno de estos resultados $X=\\{1,2,3\\}$ obtendría una ganancia de $\\frac{1}{1}$ ,$\\frac{1}{2}$ o $\\frac{1}{3}$ que resultan mayores a la opción 1, por otro lado si obtengo el resultado $X=\\{4\\}$ obtendría $\\frac{1}{4}$ de ganancia al igual que en la opción 1 y finalmente si cae $X= \\{5,6\\}$ obtendríamos de ganancia $\\frac{1}{5}$ o $\\frac{1}{6}$ lo cual resulta una pérdida en comparación con la opción 1.\n",
        "\n",
        "Podemos dividir los 6 posibles resultados en 3 grupos:\n",
        "\n",
        "* Ganar: si X=\\{1,2,3\\} con probabilidad $P(X=1,2,3)=\\frac{1}{2}$\n",
        "* Perder: si X=\\{5,6\\} con probabilidad $P(X=1,2,3)=\\frac{1}{3}$\n",
        "* Empatar: si $x=\\{4\\}$ con probabilidad $P(X=1,2,3)=\\frac{1}{6}$\n",
        "\n",
        "En el caso de la opción 1, para N lanzamientos la ganacia será de $N/4$ dólares mientras que para la opción dos, dependerá de los valores obtenidos.\n",
        "\n",
        "Podemos realizar simulaciones de un lanzamiento de un dado justo y mostrar cual opción conviene más."
      ],
      "metadata": {
        "id": "E_GLQP34sF3D"
      }
    },
    {
      "cell_type": "code",
      "source": [
        "Dado<-function(N){\n",
        "  X<-c(1,2,3,4,5,6)\n",
        "  frecuencia<-c(0,0,0,0,0,0)\n",
        "  ganancia<-0\n",
        "\n",
        "  for (i in 1:N){\n",
        "    x<-sample(X,1,TRUE)\n",
        "    ganancia<-ganancia+1/x\n",
        "\n",
        "    if(x==1){\n",
        "      frecuencia[1]<-frecuencia[1]+1\n",
        "      }\n",
        "    else if(x==2){\n",
        "      frecuencia[2]<-frecuencia[2]+1\n",
        "      }\n",
        "    else if(x==3){\n",
        "      frecuencia[3]<-frecuencia[3]+1\n",
        "     }\n",
        "    else if(x==4){\n",
        "      frecuencia[4]<-frecuencia[4]+1\n",
        "      }\n",
        "    else if(x==5){\n",
        "      frecuencia[5]<-frecuencia[5]+1\n",
        "      }\n",
        "    else if(x==6){\n",
        "      frecuencia[6]<-frecuencia[6]+1\n",
        "    }\n",
        "  }\n",
        "  print(paste(\"Lanzando\",i,\"dados -->\",\"Ganancia con la opción 1:\", N/4,\"Dólares. \",\"Ganancia con la opción 2:\",ganancia,\"dólares.\"))\n",
        "}\n",
        "\n",
        "for (i in 1:10){\n",
        "  Dado(i)\n",
        "}\n"
      ],
      "metadata": {
        "id": "YBCiqoQ1sGAi",
        "colab": {
          "base_uri": "https://localhost:8080/"
        },
        "outputId": "dc5faaf2-c840-48ce-a6f1-79ccd50ef218"
      },
      "execution_count": null,
      "outputs": [
        {
          "output_type": "stream",
          "name": "stdout",
          "text": [
            "[1] \"Lanzando 1 dados --> Ganancia con la opción 1: 0.25 Dólares.  Ganancia con la opción 2: 0.166666666666667 dólares.\"\n",
            "[1] \"Lanzando 2 dados --> Ganancia con la opción 1: 0.5 Dólares.  Ganancia con la opción 2: 0.5 dólares.\"\n",
            "[1] \"Lanzando 3 dados --> Ganancia con la opción 1: 0.75 Dólares.  Ganancia con la opción 2: 0.7 dólares.\"\n",
            "[1] \"Lanzando 4 dados --> Ganancia con la opción 1: 1 Dólares.  Ganancia con la opción 2: 1.03333333333333 dólares.\"\n",
            "[1] \"Lanzando 5 dados --> Ganancia con la opción 1: 1.25 Dólares.  Ganancia con la opción 2: 1.9 dólares.\"\n",
            "[1] \"Lanzando 6 dados --> Ganancia con la opción 1: 1.5 Dólares.  Ganancia con la opción 2: 3 dólares.\"\n",
            "[1] \"Lanzando 7 dados --> Ganancia con la opción 1: 1.75 Dólares.  Ganancia con la opción 2: 3.2 dólares.\"\n",
            "[1] \"Lanzando 8 dados --> Ganancia con la opción 1: 2 Dólares.  Ganancia con la opción 2: 2.9 dólares.\"\n",
            "[1] \"Lanzando 9 dados --> Ganancia con la opción 1: 2.25 Dólares.  Ganancia con la opción 2: 3.86666666666667 dólares.\"\n",
            "[1] \"Lanzando 10 dados --> Ganancia con la opción 1: 2.5 Dólares.  Ganancia con la opción 2: 5.45 dólares.\"\n"
          ]
        }
      ]
    },
    {
      "cell_type": "markdown",
      "source": [
        "Sabemos que el valor esperado de una función $f(x_i)$ está dado por la expresión siguiente:\n",
        "\n",
        "$$\n",
        "\\begin{align*}\n",
        "E[f(x)]=\\sum_{i=1}^{N} f(x_i)P(x_i)\n",
        "\\end{align*}\n",
        "$$\n",
        "\n",
        "Por lo tanto para la segunda opción tenemos el valor esperado:\n",
        "\n",
        "$$\n",
        "\\begin{align*}\n",
        "E[h(X)]=\\sum_{i=1}^{6} \\frac{1}{x_i}\\cdot \\frac{1}{6}=\\frac{1}{6}\\left( \\frac{1}{1}+\\frac{1}{2}+\\frac{1}{3}+\\frac{1}{4}+\\frac{1}{5}+\\frac{1}{6} \\right)=0.40\n",
        "\\end{align*}\n",
        "$$\n",
        "\n",
        "Mientras que para la primera opción tenemos que $g(X)=\\frac{1}{4}$ y su valor esperado es:\n",
        "\n",
        "$$\n",
        "\\begin{align*}\n",
        "E[g(X)]=\\sum_{i=1}^{6} \\frac{1}{6} \\cdot \\frac{1}{4}=\\frac{6}{24}=\\frac{1}{4}=0.25\n",
        "\\end{align*}\n",
        "$$\n",
        "\n",
        "Notamos que $E[g(X)]<E[h(X)]$.\n",
        "\n",
        "Por lo cual confirmamos que la mejor opción es la 2."
      ],
      "metadata": {
        "id": "ZpqD31AcfFmo"
      }
    },
    {
      "cell_type": "markdown",
      "source": [
        "### Problema 3\n",
        "\n",
        "Supongamos que $X$ es una variable aleatoria para el tiempo (en horas) que tarda una pieza de maquinaria en fallar. Sea el PDF de $X$ igual a $f(x) = ce^{-x/50}$ para $x>0$ y $f(x) = 0$ para $x \\le 0$.\n",
        "\n",
        "**a)** ¿Cuál debe ser el valor de c?"
      ],
      "metadata": {
        "id": "kA0S0MHssGH1"
      }
    },
    {
      "cell_type": "markdown",
      "source": [
        "Sabemos que una PDF debe cumplir con las siguientes dos propiedades:\n",
        "\n",
        "* $f(x)\\geq 0$ para toda $x \\in \\mathbb{R}$\n",
        "* $\\int_{-∞}^{∞} f(x) = 1 $\n",
        "\n",
        "Podemos notar que la primera se cumple siempre y cuando $c>0$, para encontrar el valor de c se calcula la integral.\n",
        "\n",
        "$$\n",
        "\\begin{align*}\n",
        "\\int_{-∞}^{\\infty}f(x)dx &=\\int_{-∞}^{0}f(x)dx+\\int_{0}^{\\infty}f(x)dx \\\\\n",
        " &=0 + \\int_{0}^{\\infty}f(x)\\\\\n",
        " &=\\int_{0}^{\\infty}ce^{-\\frac{x}{50}}dx=c\\int_{0}^{\\infty}e^{-\\frac{x}{50}}dx\\\\\n",
        " &=(-50c)e^{-\\frac{x}{50}}\\bigg|_{0}^{\\infty}\\\\\n",
        " &=\\lim_{x\\to\\infty}(-50c)e^{-\\frac{x}{50}}-(-50c)e^{-\\frac{0}{50}}\\\\\n",
        " &= 0 -(-50c)\\\\\n",
        " &= 50c=1\n",
        "\\end{align*}\n",
        "$$\n",
        "\n",
        "Por lo tanto se obtiene que $c=\\frac{1}{50}$ es decir:\n",
        "\n",
        "$f(x)=\\frac{1}{50}e^{-\\frac{x}{50}}$"
      ],
      "metadata": {
        "id": "_ycgNsHosWMe"
      }
    },
    {
      "cell_type": "code",
      "source": [
        "x=seq(0,200,length=100)\n",
        "plot(x,1/50*exp(-x/50),type=\"l\",col=\"black\",lwd=3,main=\"P(X)\",xlab=\"Horas que tarda en fallar\",ylab=\"Probabilidad\")"
      ],
      "metadata": {
        "colab": {
          "base_uri": "https://localhost:8080/",
          "height": 437
        },
        "id": "lM4aRJYRlL6i",
        "outputId": "011e9419-bad6-4f27-fff2-14a1a2d0f46a"
      },
      "execution_count": null,
      "outputs": [
        {
          "output_type": "display_data",
          "data": {
            "text/plain": [
              "Plot with title “P(X)”"
            ],
            "image/png": "[encoded data removed]"
          },
          "metadata": {
            "image/png": {
              "width": 420,
              "height": 420
            }
          }
        }
      ]
    },
    {
      "cell_type": "code",
      "source": [
        "Respuesta6<-1/50"
      ],
      "metadata": {
        "id": "UwVWjsPgsWV8"
      },
      "execution_count": null,
      "outputs": []
    },
    {
      "cell_type": "markdown",
      "source": [
        "**b)** ¿Cuál es la probabilidad de que la máquina funcione durante al menos 100 horas? Da el valor exacto o redondea tu respuesta a tres decimales."
      ],
      "metadata": {
        "id": "A0x3ZVgDsWde"
      }
    },
    {
      "cell_type": "markdown",
      "source": [
        "Dado que la variable aleatoria es el tiempo que tarda en fallar la máquina, encontrar la probabilidad en la que la máquina funcione en al menos 100 horas es encontrar la probabilidad en la cual tarda al menos 100 h en fallar. Por lo tanto\n",
        "\n",
        "$P(\\geq 100)=1-P(\\leq 100)$\n",
        "\n",
        "$P(X\\leq 100)=\\int_{0}^{100}\\frac{1}{50}e^{-\\frac{x}{50}}dx$\n",
        "\n",
        "De manera que:\n",
        "\n",
        "$$\n",
        "\\begin{align*}\n",
        "P(X\\leq 100)=\\frac{1}{50}\\int_{0}^{100}e^{-\\frac{x}{50}}dx&=-\\frac{50}{50}e^{-\\frac{x}{50}}\\bigg|_{0}^{100}\\\\\n",
        "&=1-e^{-\\frac{100}{50}}\\\\\n",
        "&=1-e^{-2}\\\\\n",
        "&=0.864\n",
        "\\end{align*}\n",
        "$$\n",
        "\n",
        "Por lo cual se obtiene la probabilidad de que la máquina funcione durante al menos 100 horas.\n",
        "\n",
        "$P(X\\geq 100)=1-0.864=0.136$"
      ],
      "metadata": {
        "id": "uCzx1JAGsblY"
      }
    },
    {
      "cell_type": "code",
      "source": [
        "Respuesta7<-0.136"
      ],
      "metadata": {
        "id": "7TDEViRRsbwq"
      },
      "execution_count": null,
      "outputs": []
    },
    {
      "cell_type": "markdown",
      "source": [
        "**c)** ¿Cuál es el tiempo esperado para que la máquina se descomponga?"
      ],
      "metadata": {
        "id": "A3LaVlmxsceX"
      }
    },
    {
      "cell_type": "markdown",
      "source": [
        "El valor esperado de una PDF está dado de la siguiente manera:\n",
        "\n",
        "$$\n",
        "\\begin{align*}\n",
        "E[X]=\\int_{-\\infty}^{\\infty}xf(x) dx\n",
        "\\end{align*}\n",
        "$$\n",
        "\n",
        "Por lo cual en este caso tenemos:\n",
        "\n",
        "$$\n",
        "\\begin{align*}\n",
        "E[X]=\\frac{1}{50}\\int_{0}^{\\infty}xe^{-\\frac{x}{50}} dx &= 50\\int_{0}^{\\infty} u e^{u}du\\\\\n",
        "&= 50\\left[ue^{u}\\bigg|_0^{\\infty}-\\int_{0}^{\\infty}e^{u}du \\right] \\\\\n",
        "&= 50\\left[ue^{u}\\bigg|_0^{\\infty}-e^{u}\\bigg|_{0}^{\\infty}\\right]\\\\\n",
        "&= 50\\left[-\\frac{x}{50}e^{-\\frac{x}{50}}\\bigg|_0^{\\infty}-e^{-\\frac{x}{50}}\\bigg|_{0}^{\\infty}\\right]\\\\\n",
        "&=-\\left[50+x\\right]e^{-\\frac{x}{50}}\\bigg|_{0}^{∞}\\\\\n",
        "&= \\lim_{x\\to \\infty}\\left(-\\left[50+x\\right]e^{-\\frac{x}{50}}\\right)-(-\\left[50+0\\right]e^{-\\frac{0}{50}})\\\\\n",
        "&=0+50=50\n",
        "\\end{align*}\n",
        "$$\n",
        "\n",
        "Por lo tanto $E[X]=50$ es el tiempo esperado para que una máquina se descomponga."
      ],
      "metadata": {
        "id": "1ShgnuKgsh6n"
      }
    },
    {
      "cell_type": "code",
      "source": [
        "Respuesta8<-50"
      ],
      "metadata": {
        "id": "FkiPe5AAsb2d"
      },
      "execution_count": null,
      "outputs": []
    },
    {
      "cell_type": "markdown",
      "source": [
        "# Cálculos de covarianza y correlación en varios ejemplos"
      ],
      "metadata": {
        "id": "JI4lAO4RvzVb"
      }
    },
    {
      "cell_type": "markdown",
      "source": [
        "### Problema 1\n",
        "Sea $X$ una variable aleatoria tal que $E(X) = 3$, $sd(X) = 4$, y sea $Y$ una v.r. tal que $E(Y ) = 1$, $sd(Y ) = 2$. $X$ y $Y$ no son linealmente independientes y $corr(X, Y ) = 0.5$.\n",
        "\n",
        "**a)** ¿Cuál es $E(X + 3Y + 1)$?"
      ],
      "metadata": {
        "id": "uh-yfNn7v0oB"
      }
    },
    {
      "cell_type": "markdown",
      "source": [
        "Sabemos que el valor esperado es un operador lineal, por lo cual:\n",
        "\n",
        "$$\n",
        "\\begin{align*}\n",
        "E[X+3Y+1]&=E[X]+E[3Y]+E[1]\\\\\n",
        "&=E[X]+3E[Y]+1\\\\\n",
        "&=3+3*1+1\\\\\n",
        "&=7\n",
        "\\end{align*}\n",
        "$$"
      ],
      "metadata": {
        "id": "T2_lQEbKv_3b"
      }
    },
    {
      "cell_type": "code",
      "source": [
        "Respuesta9<-7"
      ],
      "metadata": {
        "id": "pETfZhQjv__s"
      },
      "execution_count": null,
      "outputs": []
    },
    {
      "cell_type": "markdown",
      "source": [
        "**b)** ¿Cuánto es $sd(4X + 2Y + 2)$? Redondea tu respuesta a dos cifras decimales."
      ],
      "metadata": {
        "id": "1wPEBoYpwANw"
      }
    },
    {
      "cell_type": "markdown",
      "source": [
        "Sabemos que $sd(X)=\\sqrt{V(X)}$ , además, sabemos que $corr(X,Y)=\\frac{COV(X,Y)}{sd(x)sd(Y)}$ por lo tanto:\n",
        "$$\n",
        "\\begin{align*}\n",
        "sd(4X+2Y+2)&=\\sqrt{V(4X+2Y+2)}\\\\\n",
        "&=\\sqrt{V(4X+2Y)}\\\\\n",
        "&=\\sqrt{4^2V(X)+2^2V(Y)+2(4)(2)COV(X,Y)}\\\\\n",
        "&=\\sqrt{16[sd(X)]^2+4[sd(Y)]^2+16corr(X,Y)sd(x)sd(Y)} \\\\\n",
        "&=\\sqrt{16[4]^2+4[2]^2+16[0.5][4][2]} \\\\\n",
        "&=\\sqrt{336}\\\\\n",
        "&=\\sqrt{21 \\cdot 16}\\\\\n",
        "&=4\\sqrt{21}\\\\\n",
        "&=18.33\n",
        "\\end{align*}\n",
        "$$\n",
        "\n",
        "\n"
      ],
      "metadata": {
        "id": "7ewPn7VZwFqj"
      }
    },
    {
      "cell_type": "code",
      "source": [
        "Respuesta10<-18.33"
      ],
      "metadata": {
        "id": "du9wuCdswF1y"
      },
      "execution_count": null,
      "outputs": []
    },
    {
      "cell_type": "markdown",
      "source": [
        "**c)** ¿Cuánto es $E(3X - 2Y - 10)$?"
      ],
      "metadata": {
        "id": "IQXmOOuUwK5p"
      }
    },
    {
      "cell_type": "markdown",
      "source": [
        "$$\n",
        "\\begin{align*}\n",
        "E[3X-2Y-10]&=E[3X]+E[-2Y]+E[-10]\\\\\n",
        "&=3E[X]-2E[Y]-10\\\\\n",
        "&=3*3-2*1-10\\\\\n",
        "&=-3\n",
        "\\end{align*}\n",
        "$$"
      ],
      "metadata": {
        "id": "o1PtBf68wL6B"
      }
    },
    {
      "cell_type": "code",
      "source": [
        "Respuesta11<- -3"
      ],
      "metadata": {
        "id": "RVD3sfJNwMCU"
      },
      "execution_count": null,
      "outputs": []
    },
    {
      "cell_type": "markdown",
      "source": [
        "**d)** ¿Cuánto es $sd(3X - 3Y - 5)$? Redondea tu respuesta a dos cifras decimales."
      ],
      "metadata": {
        "id": "m0xd0xF9wMfA"
      }
    },
    {
      "cell_type": "markdown",
      "source": [
        "$$\n",
        "\\begin{align*}\n",
        "sd(3X-3Y-5)&=\\sqrt{V(3X-3Y-5)}\\\\\n",
        "&=\\sqrt{V(3X-3Y)}\\\\\n",
        "&=\\sqrt{3^2V(X)+(-3)^2V(Y)+2(3)(-3)COV(X,Y)}\\\\\n",
        "&=\\sqrt{9[sd(X)]^2+9[sd(Y)]^2-18corr(X,Y)sd(x)sd(Y)} \\\\\n",
        "&=\\sqrt{9[4]^2+9[2]^2-18[0.5][4][2]} \\\\\n",
        "&=\\sqrt{108}\\\\\n",
        "&=\\sqrt{3 \\cdot 36}\\\\\n",
        "&=6\\sqrt{3}\\\\\n",
        "&=10.39\n",
        "\\end{align*}\n",
        "$$\n",
        "\n"
      ],
      "metadata": {
        "id": "y41n8oT3wRXM"
      }
    },
    {
      "cell_type": "code",
      "source": [
        "Respuesta12<-10.39"
      ],
      "metadata": {
        "id": "32IJogbfwRhz"
      },
      "execution_count": null,
      "outputs": []
    },
    {
      "cell_type": "markdown",
      "source": [
        "### Problema 2\n",
        "\n",
        "Cada uno de los dos componentes necesarios en la fabricación de automóviles se puede representar en 1 de 3 escalas. Sea $X$ el costo del primer componente (en cientos de dólares) y sea $Y$ el costo del segundo componente (también en cientos de dólares). La siguiente tabla representa la fracción semanal de automóviles que utilizan cada combinación de estos componentes.\n",
        "\n",
        "|      | y=7 | y=9 | y=10 |\n",
        "| ----- | ----- | ----- | ----- |\n",
        "| x=7 | 0.05 | 0.05 | 0.10 |\n",
        "| x=9 | 0.05 | 0.10 | 0.35 |\n",
        "| x=10 | 0 | 0.20 | 0.10 |\n",
        "\n",
        "**a)** ¿Cuánto es la $Cov(X, Y)$? Redondea tu respuesta a tres decimales."
      ],
      "metadata": {
        "id": "INIaKoyQwRz6"
      }
    },
    {
      "cell_type": "markdown",
      "source": [
        "Definimos la covarianza entre $X$ y $Y$ como:\n",
        "\n",
        "$$\n",
        "\\begin{align*}\n",
        " Cov(X,Y)=\\sum_{x}  \\sum_{y} (x-\\mu_X)(y-\\mu_Y) P(X=x,Y=y)\n",
        "\\end{align*}\n",
        "$$\n",
        "\n",
        "Donde $\\mu_X= \\frac{7+9+10}{3}=\\frac{26}{3}$ y $\\mu_Y=\\frac{7+9+10}{3}=\\frac{26}{3}$ entonces:\n",
        "\n",
        "$$\n",
        "\\begin{align*}\n",
        "Cov(X,Y)&=(7-\\frac{26}{3})(7-\\frac{26}{3}) P(7,7)+(7-\\frac{26}{3})(9-\\frac{26}{3}) P(7,9)+(7-\\frac{26}{3})(10-\\frac{26}{3}) P(7,10)\\\\\n",
        "&+(9-\\frac{26}{3})(7-\\frac{26}{3}) P(9,7)+(9-\\frac{26}{3})(9-\\frac{26}{3}) P(9,9)+(9-\\frac{26}{3})(10-\\frac{26}{3}) P(9,10)\\\\\n",
        "&+(10-\\frac{26}{3})(7-\\frac{26}{3}) P(10,7)+(10-\\frac{26}{3})(9-\\frac{26}{3}) P(10,9)+(10-\\frac{26}{3})(10-\\frac{26}{3}) P(10,10)\\\\\n",
        "&=(-\\frac{5}{3})(-\\frac{5}{3}) P(7,7)+(-\\frac{5}{3})(\\frac{1}{3}) P(7,9)+(-\\frac{5}{3})(\\frac{4}{3}) P(7,10)\\\\\n",
        "&+(\\frac{1}{3})(-\\frac{5}{3}) P(9,7)+(\\frac{1}{3})(\\frac{1}{3}) P(9,9)+(\\frac{1}{3})(\\frac{4}{3}) P(9,10)\\\\\n",
        "&+(\\frac{4}{3})(-\\frac{5}{3}) P(10,7)+(\\frac{4}{3})(\\frac{1}{3}) P(10,9)+(\\frac{4}{3})(\\frac{4}{3}) P(10,10)\\\\\n",
        "&=(\\frac{25}{9}) P(7,7)-(\\frac{5}{9}) P(7,9)-(\\frac{20}{9})P(7,10)\\\\\n",
        "&-(\\frac{5}{9}) P(9,7)+(\\frac{1}{9})P(9,9)+(\\frac{4}{9}) P(9,10)\\\\\n",
        "&-(\\frac{20}{9}) P(10,7)+(\\frac{4}{9})P(10,9)+(\\frac{16}{9}) P(10,10)\\\\\n",
        "&=(\\frac{25}{9})(0.05)-(\\frac{5}{9})(0.05)-(\\frac{20}{9})(0.10)\\\\\n",
        "&-(\\frac{5}{9}) (0.05)+(\\frac{1}{9})(0.10)+(\\frac{4}{9}) (0.35)\\\\\n",
        "&-(\\frac{20}{9})(0)+(\\frac{4}{9})(0.20)+(\\frac{16}{9})(0.10)=0.295\\\\\n",
        "\\end{align*}\n",
        "$$"
      ],
      "metadata": {
        "id": "FhSshX-5wwEN"
      }
    },
    {
      "cell_type": "code",
      "source": [
        "Respuesta13<-0.295"
      ],
      "metadata": {
        "id": "Olo66VkZwwMp"
      },
      "execution_count": null,
      "outputs": []
    },
    {
      "cell_type": "markdown",
      "source": [
        "**b)** Supon que las variables aleatorias miden el costo de cada parte en dólares, en lugar de cientos de dólares. En este caso, las variables aleatorias serían $U = 100X$ y $V = 100Y$. ¿Cuál es la $Cov(U,V)$? (Esta pregunta nos muestra cómo cambiar las unidades de la variable aleatoria puede cambiar el valor de la covarianza)"
      ],
      "metadata": {
        "id": "CfpFnbgZwwUS"
      }
    },
    {
      "cell_type": "markdown",
      "source": [
        "Dado que $Cov(aX,bY)=abCov(X,Y)$ entonces tenemos que:\n",
        "\n",
        "$$\n",
        "\\begin{align*}\n",
        "Cov(U,V)=Cov(100X,100Y)=100*100Cov(X,Y)=10^{4}Cov(X,Y)=2944.444\n",
        "\\end{align*}\n",
        "$$"
      ],
      "metadata": {
        "id": "eGPCvd4jw9SO"
      }
    },
    {
      "cell_type": "code",
      "source": [
        "Respuesta14<-2944.444"
      ],
      "metadata": {
        "id": "BR9ytTA2w9cK"
      },
      "execution_count": null,
      "outputs": []
    },
    {
      "cell_type": "markdown",
      "source": [
        "**c)** ¿Cuál es el coeficiente de correlación $\\rho_{X,Y}$? Guarde este valor como `rho.xy`. ¿Cuál es el coeficiente de correlación $\\rho_{U,V}$? ¿Guardar este valor como `rho.uv`? Redondea tus respuestas a tres decimales."
      ],
      "metadata": {
        "id": "WFv4QMJaw9kY"
      }
    },
    {
      "cell_type": "markdown",
      "source": [
        "Sabemos que\n",
        "$$\n",
        "\\rho_{X,Y}=\\frac{Cov(X,Y)}{\\sigma_x \\sigma_Y}\n",
        "$$\n",
        "\n",
        "Con $\\sigma_{X}$ y $\\sigma_{Y}$ dadas de la siguiente forma:\n",
        "\n",
        "$$\n",
        "\\begin{align*}\n",
        "\\sigma_X^2&=\\sum (X_i-\\mu)^2P(X_i)\\\\\n",
        "&=\\left(7-\\frac{26}{3} \\right)^2(0.05+0.05+0.10)+\\left(9-\\frac{26}{3} \\right)^2 (0.05+0.10+0.35)+\\left( 10-\\frac{26}{3} \\right)^2 (0+0.20+0.10)\\\\\n",
        "&=\\left(-\\frac{5}{6} \\right)^2 (0.20)+\\left( \\frac{1}{3} \\right)^2 (0.50)+\\left( \\frac{4}{3} \\right)^2 (0.30)\\\\\n",
        "&=0.782\\\\\n",
        "\\sigma_{x}&=0.884\n",
        "\\end{align*}\n",
        "$$\n",
        "\n",
        "$$\n",
        "\\begin{align*}\n",
        "\\sigma_Y^2&=\\sum (Y_i-\\mu)^2P(Y_i)\\\\\n",
        "&=\\left(7-\\frac{26}{3} \\right)^2(0.05+0.05+0)+\\left(9-\\frac{26}{3} \\right)^2 (0.05+0.10+0.20)+\\left( 10-\\frac{26}{3} \\right)^2 (0.10+0.35+0.10)\\\\\n",
        "&=\\left(-\\frac{5}{6} \\right)^2 (0.10)+\\left( \\frac{1}{3} \\right)^2 (0.35)+\\left( \\frac{4}{3} \\right)^2 (0.55)\\\\\n",
        "&=1.086\\\\\n",
        "\\sigma_Y&=1.042\n",
        "\\end{align*}\n",
        "$$\n",
        "\n",
        "Por lo tanto\n",
        "\n",
        "$$\n",
        "\\begin{align*}\n",
        "\\rho_{X,Y}&=\\frac{Cov(X,Y)}{\\sigma_x\\sigma_y}=\\frac{0.295}{(0.884)(1.042)}=0.320\n",
        "\\end{align*}\n",
        "$$\n",
        "\n",
        "$$\n",
        "\\begin{align*}\n",
        "\\rho_{U,V}&=\\frac{Cov(U,V)}{\\sigma_U\\sigma_V}=\\frac{(100\\cdot 100)Cov(X,Y)}{(100 \\cdot \\sigma_X )(100\\cdot \\sigma_Y)}\\\\\n",
        "&=\\frac{Cov(X,Y)}{\\sigma_X\\sigma_Y}=\\rho_{X.Y}\\\\\n",
        "\\rho_{U,V}&=\\rho_{X.Y}\n",
        "\\end{align*}\n",
        "$$"
      ],
      "metadata": {
        "id": "Ns5g_dCDxIhd"
      }
    },
    {
      "cell_type": "code",
      "source": [
        "rho.xy <- round(0.295/(0.884*1.042),3)\n",
        "rho.uv <- round(0.295/(0.884*1.042),3)"
      ],
      "metadata": {
        "id": "S0WHJGKGxIpx"
      },
      "execution_count": null,
      "outputs": []
    },
    {
      "cell_type": "markdown",
      "source": [
        "# Variables aleatorias normales y el CLT"
      ],
      "metadata": {
        "id": "nxnY68Xyyuqz"
      }
    },
    {
      "cell_type": "markdown",
      "source": [
        "### Problema 1\n",
        "\n",
        "Imagina que pruebas la garantía de calidad para equipos de hardware y te han dado $ 10,000 $ clavos  para probar. Decides tomar una muestra al azar de $100$ clavos  del lote y probar si están defectuosos. Todo el lote se consideraría defectuoso si el promedio de la muestra es inferior a $11,97$cm o superior a $12,04$cm. Dado que la media poblacional verdadera $\\mu$ es $12$cm con una desviación estándar verdadera $\\sigma$ de $0.2$cm, ¿cuál es la probabilidad de que el lote **no** sea defectuoso? Redondea tu respuesta a dos cifras decimales."
      ],
      "metadata": {
        "id": "ZvDbVzcmyxpx"
      }
    },
    {
      "cell_type": "markdown",
      "source": [
        "Sea $X_i$ el tamaño del i-ésimo clavo con $i\\in\\{1,2,3,...,100\\}$, sabemos que el valor esperado es $E[X]=12$ cm y la desviación estánda es $\\sigma=0.2$ cm.\n",
        "\n",
        "Sea $\\bar{X}=\\frac{1}{100}\\sum_{i=1}^{100}X_i$. La probabilidad de que el lote no sea defectuoso es:\n",
        "\n",
        "$$\n",
        "P(11.97 < \\bar{X} < 12.04)\n",
        "$$\n",
        "\n",
        "Pero por el Teoréma del límite central, sabemos que:\n",
        "\n",
        "$$\n",
        "\\begin{align*}\n",
        "\\bar{X}\\sim N\\left(12,\\frac{(0.2)^2}{100}\\right)=N(12,4\\times10^{-4}) \\text{ con $\\mu_\\bar{X}=12$ y $\\sigma^2_{\\bar{X}}=\\frac{(0.2)^2}{100}$ }\n",
        "\\end{align*}\n",
        "$$\n",
        "\n",
        "Por lo cual, la probabilidad de que el lote no sea defectuoso es:\n",
        "\n",
        "$$\n",
        "P(11.97 < \\bar{X} < 12.04)=0.9104\n",
        "$$\n"
      ],
      "metadata": {
        "id": "S2Ue9g5nzPW-"
      }
    },
    {
      "cell_type": "code",
      "source": [
        "pnorm(12.04, mean=12, sd=0.02)-pnorm(11.97, mean=12, sd=0.02)"
      ],
      "metadata": {
        "id": "xxUjRdv9zPiT",
        "colab": {
          "base_uri": "https://localhost:8080/",
          "height": 34
        },
        "outputId": "6fbd7c99-762e-44d2-c569-fd256856a586"
      },
      "execution_count": null,
      "outputs": [
        {
          "output_type": "display_data",
          "data": {
            "text/html": [
              "0.910442666782956"
            ],
            "text/markdown": "0.910442666782956",
            "text/latex": "0.910442666782956",
            "text/plain": [
              "[1] 0.9104427"
            ]
          },
          "metadata": {}
        }
      ]
    },
    {
      "cell_type": "code",
      "source": [
        "Respuesta15<-0.9104"
      ],
      "metadata": {
        "id": "5TsuVT8RRo8A"
      },
      "execution_count": null,
      "outputs": []
    },
    {
      "cell_type": "markdown",
      "source": [
        "### Problema 2\n",
        "\n",
        "Supon que estás pescando y deseas predecir la cantidad de tiempo (en minutos) que te llevará pescar 3 peces. Sea $T_F \\sim N(15, 10)$ el tiempo que tardas en pescar un pez. Sea $T_T \\sim N(10, 8)$ la cantidad de tiempo que pasa esperando que el pez muerda el anzuelo. Supon que $T_F$ y $T_T$ son independientes. Supon también que comienzas a cronometrar tan pronto como comienzas a pescar el primer pez, y que el tiempo termina cuando terminas de pescar el tercer pez.\n",
        "\n",
        "**a)** Sea $T$ la variable aleatoria para la cantidad total de tiempo dedicado a pescar. ¿Cuál es el $E[T]$ y la $Var[T]$? Guarde tus variables como `exp.T` y `var.T`. (Sugerencia: toma en cuenta que una varianza de 122 es incorrecta para este problema. ¿Por qué? Si $Z_1$ y $Z_2$ son variables aleatorias N(0,1)\n",
        "independientes, la distribución de $Z_1 + Z_2 $ no es la misma que $2 Z_1 $. Si deseas explorar esto, puedes ejecutar algunas simulaciones para verlo por ti mismo)."
      ],
      "metadata": {
        "id": "Kok3i6EfzUAV"
      }
    },
    {
      "cell_type": "markdown",
      "source": [
        "El tiempo que me tardaré en esperar a que un pez muerda el anzuelo y lo pesque será $T_p=T_T+T_F$ así que el tiempo que tardaré en pescar los 3 peces será:\n",
        "\n",
        "$$\n",
        "\\begin{align*}\n",
        "T=T_p+T_p+T_p=T_T+T_F+T_T+T_F+T_T+T_F\n",
        "\\end{align*}\n",
        "$$\n",
        "\n",
        "De acuerdo al Teorema del Límite Central. $T\\sim N(\\mu_T,\\sigma_T^2)$\n",
        "\n",
        "$$\n",
        "\\begin{align*}\n",
        "\\mu_T=\\sum_{i=1}^{N}\\mu_i=10+15+10+15+10+15=75\\\\\n",
        "\\sigma_T^2=\\sum_{i=1}^{N}\\sigma_i^{2}=8+10+8+10+8+10=54\n",
        "\\end{align*}\n",
        "$$"
      ],
      "metadata": {
        "id": "1-pmbRhWzzAO"
      }
    },
    {
      "cell_type": "code",
      "source": [
        "Respuesta16<-54"
      ],
      "metadata": {
        "id": "8mKcCGk_QxOk"
      },
      "execution_count": null,
      "outputs": []
    },
    {
      "cell_type": "markdown",
      "source": [
        "**b)** ¿Cuál es la probabilidad de que termines de pescar los tres peces en 60 minutos o menos? Redondea tu respuesta a tres decimales."
      ],
      "metadata": {
        "id": "wjqFQC5YzzR7"
      }
    },
    {
      "cell_type": "markdown",
      "source": [
        "$$\n",
        "\\begin{align*}\n",
        "  P(T<60)=P\\left( Z<\\frac{60-75}{\\sqrt{54}}\\right)=P(Z<-2.04)\n",
        "\\end{align*}\n",
        "$$"
      ],
      "metadata": {
        "id": "bngWB93Qz7a0"
      }
    },
    {
      "cell_type": "code",
      "source": [
        "P<-pnorm(60, mean=75, sd=(54)^(1/2))\n",
        "round(P,4)"
      ],
      "metadata": {
        "id": "N_UGFRZJzzJU",
        "colab": {
          "base_uri": "https://localhost:8080/",
          "height": 34
        },
        "outputId": "cbcef6d5-e997-441b-f4e8-dce6e916b73e"
      },
      "execution_count": null,
      "outputs": [
        {
          "output_type": "display_data",
          "data": {
            "text/html": [
              "0.0206"
            ],
            "text/markdown": "0.0206",
            "text/latex": "0.0206",
            "text/plain": [
              "[1] 0.0206"
            ]
          },
          "metadata": {}
        }
      ]
    },
    {
      "cell_type": "code",
      "source": [
        "Respuesta17<-round(P,4)"
      ],
      "metadata": {
        "id": "zIu0bOj7MFqA"
      },
      "execution_count": null,
      "outputs": []
    },
    {
      "cell_type": "markdown",
      "source": [],
      "metadata": {
        "id": "bf3ycFxfeBJz"
      }
    },
    {
      "cell_type": "markdown",
      "source": [
        "### Problema 3\n",
        "\n",
        "Los exámenes dados por un instructor en particular en un curso de estadística de primer año tienen una media de $75$ y una desviación estándar de $17$. El instructor da un examen a dos clases, una con $30$ estudiantes y la otra con $90$ estudiantes.\n",
        "\n",
        "**a)** Sea $\\bar{X}$ el puntaje promedio del examen en la clase de $30$. Calcula la probabilidad de que el puntaje promedio de la prueba exceda los $80$, es decir, estima $P(\\bar{X} \\ge 80)$. Redondea tu respuesta a cuatro decimales."
      ],
      "metadata": {
        "id": "b1Gk_IQpz7qH"
      }
    },
    {
      "cell_type": "markdown",
      "source": [
        "Sea $X_i$ el i-ésimo examen de la clase con $i\\in\\{1,2,3,...,30\\}$, sabemos que el valor esperado es $E[X_i]=75$ y la desviación estándar es $\\sigma=17$.\n",
        "\n",
        "Sea $\\bar{X}=\\frac{1}{30}\\sum_{i=1}^{30}X_i$.\n",
        "La probabilidad de que el puntaje promedio exceda los 80 es:\n",
        "\n",
        "$$\n",
        "P(\\bar{X} \\geq 80)\n",
        "$$\n",
        "\n",
        "Pero por el Teoréma del límite central, sabemos que:\n",
        "\n",
        "$$\n",
        "\\begin{align*}\n",
        "\\bar{X}\\sim N\\left(\\mu_x,\\sigma^2_X\\right)=N\\left(75,\\frac{(17)^2}{30}\\right) \\text{ con $\\mu_\\bar{X}=75$ y $\\sigma^2_{\\bar{X}}=\\frac{(17)^2}{30}$ }\n",
        "\\end{align*}\n",
        "$$\n",
        "\n",
        "Por lo cual, la probabilidad de que el puntaje exceda los 80 es:\n",
        "\n",
        "$$\n",
        "P(\\bar{X} \\geq 80)=1-P(\\bar{X} \\leq 80)=1-P(Z<1.61)=0.0536\n",
        "$$\n"
      ],
      "metadata": {
        "id": "mrT08fI20Pig"
      }
    },
    {
      "cell_type": "code",
      "source": [
        "P2<-1-pnorm(80, mean=75, sd=17*(1/30)^(1/2))\n",
        "Respuesta18<-round(P2,4)\n",
        "Respuesta18"
      ],
      "metadata": {
        "id": "PXpyjp240Pvo",
        "colab": {
          "base_uri": "https://localhost:8080/",
          "height": 34
        },
        "outputId": "c03f3a55-fe03-41ed-e8d4-729fe58cd91e"
      },
      "execution_count": null,
      "outputs": [
        {
          "output_type": "display_data",
          "data": {
            "text/html": [
              "0.0536"
            ],
            "text/markdown": "0.0536",
            "text/latex": "0.0536",
            "text/plain": [
              "[1] 0.0536"
            ]
          },
          "metadata": {}
        }
      ]
    },
    {
      "cell_type": "markdown",
      "source": [
        "**b)** Sea $\\bar{Y}$ la calificación promedio del examen en la clase de $90$. Calcule la probabilidad de que el puntaje promedio de la prueba $\\bar{Y}$ exceda los $80$, es decir, estime $P(\\bar{Y} \\ge 80)$. Redondea tu respuesta a cuatro decimales."
      ],
      "metadata": {
        "id": "CmKM-Xva0P6Z"
      }
    },
    {
      "cell_type": "markdown",
      "source": [
        "De la misma manera, sea $Y_i$ el i-ésimo examen de la clase, con $i\\in\\{1,2,3,...,90\\}$, sabemos que el valor esperado es $E[Y_i]=75$ y la desviación estándar es $\\sigma=17$.\n",
        "\n",
        "Sea $\\bar{Y}=\\frac{1}{90}\\sum_{i=1}^{90}Y_i$.\n",
        "La probabilidad de que el puntaje promedio exceda los 80 es:\n",
        "\n",
        "$$\n",
        "P(\\bar{Y} \\geq 80)\n",
        "$$\n",
        "\n",
        "Pero por el Teoréma del límite central, sabemos que:\n",
        "\n",
        "$$\n",
        "\\begin{align*}\n",
        "\\bar{Y}\\sim N\\left(\\mu_Y,\\sigma^2_Y\\right)=N\\left(75,\\frac{(17)^2}{90}\\right) \\text{ con $\\mu_\\bar{Y}=75$ y $\\sigma^2_{\\bar{Y}}=\\frac{(17)^2}{90}$ }\n",
        "\\end{align*}\n",
        "$$\n",
        "\n",
        "Por lo cual, la probabilidad de que el puntaje exceda los 80 es:\n",
        "\n",
        "$$\n",
        "P(\\bar{Y} \\geq 80)=1-P(\\bar{Y} \\leq 80)=1-P(Z<2.79)=0.0026\n",
        "$$\n"
      ],
      "metadata": {
        "id": "mNA4oPXL0VuI"
      }
    },
    {
      "cell_type": "code",
      "source": [
        "P2<-1-pnorm(80, mean=75, sd=17*(1/90)^(1/2))\n",
        "Respuesta19<-round(P2,4)\n",
        "Respuesta19"
      ],
      "metadata": {
        "id": "sEpe3mqE0V2b",
        "colab": {
          "base_uri": "https://localhost:8080/",
          "height": 34
        },
        "outputId": "650f8291-11d1-46fe-a382-271268b94505"
      },
      "execution_count": null,
      "outputs": [
        {
          "output_type": "display_data",
          "data": {
            "text/html": [
              "0.0026"
            ],
            "text/markdown": "0.0026",
            "text/latex": "0.0026",
            "text/plain": [
              "[1] 0.0026"
            ]
          },
          "metadata": {}
        }
      ]
    },
    {
      "cell_type": "markdown",
      "source": [
        "# Problema 4\n",
        "\n",
        "  El teorema del límite central establece: Sea $X_1, \\dots, X_n$ una muestra aleatoria con $E[X_i] = \\mu$ y $Var(X_i)=\\sigma^2$. Si $n$ es lo suficientemente grande, entonces $\\bar{X}$ tiene aproximadamente una distribución normal con media $\\mu_{\\bar{X}} = \\mu$ y varianza $\\sigma_{\\bar{X}}^ 2 = \\sigma^2/n$. También es cierto que $\\sum_{i=1}^n X_i \\sim N(n\\mu, n\\sigma^2)$.\n",
        "\n",
        "Supongamos que una máquina requiere un tipo específico de batería que dura una cantidad de tiempo exponencial con una media de $25$ horas. Tan pronto como la batería falla, se reemplaza inmediatamente. Si tienes $50$ de esas baterías, calcula la probabilidad de que la máquina siga funcionando después de $1300$ horas. Redondea tu respuesta a tres decimales."
      ],
      "metadata": {
        "id": "DYg14M920WBP"
      }
    },
    {
      "cell_type": "markdown",
      "source": [],
      "metadata": {
        "id": "lw7TtVdI0gPv"
      }
    },
    {
      "cell_type": "code",
      "source": [],
      "metadata": {
        "id": "74m746hX0gYx"
      },
      "execution_count": null,
      "outputs": []
    },
    {
      "cell_type": "markdown",
      "source": [
        "# Parte 2\n",
        "\n",
        "---\n",
        "\n",
        "\n",
        "\n",
        "---\n"
      ],
      "metadata": {
        "id": "WCnZtXONorXR"
      }
    },
    {
      "cell_type": "markdown",
      "source": [
        "# Cálculos con Variables Aleatorias Discretas"
      ],
      "metadata": {
        "id": "-7azapdhoyk5"
      }
    },
    {
      "cell_type": "markdown",
      "source": [
        "### Problema 1\n",
        "  Trabajas en una fábrica que fabrica bombillas. Has determinado que $5\\%$ de las bombillas que se producen están defectuosas. Para cada uno de los siguientes escenarios:\n",
        "\n",
        "1. Defina una variable aleatoria y una distribución apropiada.\n",
        "2. Indica los valores que puede tomar las variables aleatorias.\n",
        "3. Indica cualquier suposición que necesites hacer.\n",
        "4. Encuentra la probabilidad de que la variable aleatoria que definiste tome el valor $X=4$."
      ],
      "metadata": {
        "id": "Nb-4qJ1tozXY"
      }
    },
    {
      "cell_type": "markdown",
      "source": [
        "**Parte a)**\n",
        "\n",
        "Calcula que de 30 bombillas, $k$ están defectuosas."
      ],
      "metadata": {
        "id": "NcIxtrIppESq"
      }
    },
    {
      "cell_type": "markdown",
      "source": [
        "1. Consideramos $X$ como la variable aleatoria asociada a encontrar $k$ bombillas defectuosas. Considerando revisar cada bombilla como un experimento Bernoulli en donde un éxito es encontrar una bombilla defectuosa (con probabilidad $p=0.05$) y un fracaso encontrarla bien (con probabilidad $q=1-p=0.95$). Entonces $X\\sim Bin(30,0.05)$ con $P(X=k)={30 \\choose k} (0.05)^k(0.95)^{(30-k)}$\n",
        "\n",
        "2. La variable aleatoria $X$ puede tomar los valores de $\\{0,1,2,3,...,30\\}$\n",
        "\n",
        "3. Suponiendo que el número de focos es fijo, los focos son independientes entre sí y son idénticos.\n",
        "\n",
        "4. $P(X=4)={30 \\choose 4} (0.05)^4(0.95)^{(30-4)}=0.0451$\n"
      ],
      "metadata": {
        "id": "z102ab5IpKjD"
      }
    },
    {
      "cell_type": "code",
      "source": [
        "P<-dbinom(x=4,size=30, prob=0.05)\n",
        "Respuesta20<-round(P,4)\n",
        "Respuesta20"
      ],
      "metadata": {
        "id": "krmRbpeMpKqa",
        "colab": {
          "base_uri": "https://localhost:8080/",
          "height": 34
        },
        "outputId": "5c43ad83-16a6-434a-bec1-009f90a11d02"
      },
      "execution_count": null,
      "outputs": [
        {
          "output_type": "display_data",
          "data": {
            "text/html": [
              "0.0451"
            ],
            "text/markdown": "0.0451",
            "text/latex": "0.0451",
            "text/plain": [
              "[1] 0.0451"
            ]
          },
          "metadata": {}
        }
      ]
    },
    {
      "cell_type": "markdown",
      "source": [
        "**Parte B)**\n",
        "\n",
        "Imagina que pruebas cada bombilla a medida que sale de la línea. Expresa que la bombilla $k^{th}$ es la primera bombilla defectuosa que encuentras."
      ],
      "metadata": {
        "id": "eqMZYVCtpKx9"
      }
    },
    {
      "cell_type": "markdown",
      "source": [
        "1. Consideramos $X$ como la variable aleatoria asociada al número de bombillas que se deben probar para encontrar una bombilla defectuosa. Considerando revisar cada bombilla como un experimento Bernoulli en donde un éxito es encontrar una bombilla defectuosa (con probabilidad $p=0.05$) y un fracaso encontrarla bien (con probabilidad $q=0.95$. Entonces $X\\sim Geom(p)$ con $P(X=k)=(0.05)(0.95)^{k-1}$\n",
        "\n",
        "2. La variable aleatoria $X$ puede tomar los valores de $\\{1,2,3,...\\}$\n",
        "\n",
        "3. Suponuendo que el número de bombillas defectuosas es fijo, los focos son independientes entre sí y son idénticos.\n",
        "\n",
        "4. $P(X=4)=(0.05)(0.95)^{3}=0.0429$\n"
      ],
      "metadata": {
        "id": "LxHMRlt5pWKr"
      }
    },
    {
      "cell_type": "code",
      "source": [
        "Respuesta21<-round(dgeom(x=3, prob=0.05),4) #En R, x representa el número de experimentos Bernoulli antes de encontrar un éxito, por eso se toma x=3\n",
        "Respuesta21"
      ],
      "metadata": {
        "id": "8DchTp5KpWTF",
        "colab": {
          "base_uri": "https://localhost:8080/",
          "height": 34
        },
        "outputId": "13f77e25-5e87-4022-dee6-bf5d9360d80e"
      },
      "execution_count": null,
      "outputs": [
        {
          "output_type": "display_data",
          "data": {
            "text/html": [
              "0.0429"
            ],
            "text/markdown": "0.0429",
            "text/latex": "0.0429",
            "text/plain": [
              "[1] 0.0429"
            ]
          },
          "metadata": {}
        }
      ]
    },
    {
      "cell_type": "markdown",
      "source": [
        "**Parte c)**\n",
        "\n",
        "Expresa que encuentras la segunda bombilla defectuosa después de observar $k$ bombillas en total."
      ],
      "metadata": {
        "id": "Lm8Sj_GvamP0"
      }
    },
    {
      "cell_type": "markdown",
      "source": [
        "1. Consideramos $X$ como la variable aleatoria asociada a probar $k$ bombillas antes de encontrar $r=2$ bombillas defectuosas. Considerando revisar cada bombilla como un experimento Bernoulli en donde un éxito es encontrar una bombilla defectuosa (con probabilidad $p$) y un fracaso encontrarla bien (con probabilidad $q=1-p$. Entonces $X\\sim NB(r,p)$ con $P(X=k)={k+1 \\choose 1} (0.05)^2(0.95)^{k}$\n",
        "\n",
        "2. La variable aleatoria $X$ puede tomar los valores de $\\{0,1,2,3,...\\}$\n",
        "\n",
        "3. Suponuendo que el número de bombillas defectuosas es fijo, los focos son independientes entre sí y son idénticos.\n",
        "\n",
        "4. $P(X=4)={5 \\choose 1} (0.05)^2(0.95)^{4}=0.0102$"
      ],
      "metadata": {
        "id": "hMYuSPGjpWcf"
      }
    },
    {
      "cell_type": "code",
      "source": [
        "Respuesta22<-round(dnbinom(x=4, size=2, prob=0.05),4)\n",
        "Respuesta22"
      ],
      "metadata": {
        "colab": {
          "base_uri": "https://localhost:8080/",
          "height": 34
        },
        "id": "o5oLMo6qm-cL",
        "outputId": "b648013e-4c4f-4684-ffbb-b4ec90c8f0ea"
      },
      "execution_count": null,
      "outputs": [
        {
          "output_type": "display_data",
          "data": {
            "text/html": [
              "0.0102"
            ],
            "text/markdown": "0.0102",
            "text/latex": "0.0102",
            "text/plain": [
              "[1] 0.0102"
            ]
          },
          "metadata": {}
        }
      ]
    },
    {
      "cell_type": "markdown",
      "source": [
        "### Problema 2\n",
        "\n",
        "Considera un dado cargado de seis caras que tiene el doble de probabilidades de sacar un número par que un número impar. Sea $X$ una variable aleatoria para el valor que sale del dado.\n",
        "\n",
        "**Parte a)**\n",
        "\n",
        "¿Cuál es la función de masa de probabilidad para $X$? Escriba esto como una tabla."
      ],
      "metadata": {
        "id": "_iMXSsIcpevT"
      }
    },
    {
      "cell_type": "markdown",
      "source": [
        "| y_i | X|\n",
        "|-----|-----|\n",
        "| 1   | 1/9 |\n",
        "| 2   | 2/9 |\n",
        "| 3   | 1/9 |\n",
        "| 4   | 2/9 |\n",
        "| 5   | 1/9 |\n",
        "| 6   | 2/9 |"
      ],
      "metadata": {
        "id": "D7D_drgfukTK"
      }
    },
    {
      "cell_type": "markdown",
      "source": [
        "**Parte B)**\n",
        "\n",
        "¿Cuál es la función de distribución acumulativa de $X$?"
      ],
      "metadata": {
        "id": "RPAsx_HaptJL"
      }
    },
    {
      "cell_type": "markdown",
      "source": [
        "| y| F(y) |\n",
        "|-----|------|\n",
        "|(-∞,1)|   0  |\n",
        "|[1,2)|  1/9 |\n",
        "|[2,3)|  3/9 |\n",
        "|[3,4)|  4/9 |\n",
        "|[4,5)|  6/9 |\n",
        "|[5,6)|  7/9 |\n",
        "|  [6,∞)  |  9/9 |"
      ],
      "metadata": {
        "id": "Y2dSX11ZpxX5"
      }
    },
    {
      "cell_type": "markdown",
      "source": [
        "**Parte c)**\n",
        "\n",
        "¿Cuál es $E[X]$?"
      ],
      "metadata": {
        "id": "12PXHZ9XpxgH"
      }
    },
    {
      "cell_type": "markdown",
      "source": [
        "$$\n",
        "\\begin{equation*}\n",
        "E[X]=1\\cdot\\frac{1}{9}+2\\cdot\\frac{2}{9}+3\\cdot\\frac{1}{9}+4\\cdot\\frac{2}{9}+5\\cdot\\frac{1}{9}+6\\cdot\\frac{2}{9}=\\frac{1+4+3+5+8+12}{9}=\\frac{33}{9}=\\frac{11}{3}=3.66\n",
        "\\end{equation*}\n",
        "$$"
      ],
      "metadata": {
        "id": "PZt-7KUXqFoJ"
      }
    },
    {
      "cell_type": "code",
      "source": [
        "Respuesta23<-3.66"
      ],
      "metadata": {
        "id": "IgPJCRPipPm6"
      },
      "execution_count": null,
      "outputs": []
    },
    {
      "cell_type": "markdown",
      "source": [
        "### Problema 3\n",
        "\n",
        "¿Cómo simularíamos las variables de estas distribuciones en R? Resultará que el método es bastante similar en todas estas distribuciones, así que, para simplificar, digamos que queremos simular $X \\sim Bin(n,p)$. Echa un vistazo a la documentación oficial de esta función [aquí](https://www.rdocumentation.org/packages/stats/versions/3.3/topics/Binomial). No es muy claro, ¿verdad? Vamos a repasarlo paso a paso.\n",
        "\n",
        "**Parte a)**\n",
        "\n",
        "¿Qué pasa si queremos una variable aleatoria de esta distribución? Es decir, conocemos alguna distribución subyacente y queremos simular muchos resultados de esa distribución. Entonces usaríamos la función de \"generación aleatoria\" `rbinom()`.\n",
        "\n",
        "Juega con esta función, con diferentes parámetros `size` y `prob` para tener una idea de cómo funciona. Finalmente, genera $30$ resultados a partir de una distribución $Bin(10, 0.3)$ y traza un histograma de los resultados.\n",
        "\n"
      ],
      "metadata": {
        "id": "l1dQ5eoyqFxO"
      }
    },
    {
      "cell_type": "code",
      "source": [
        "set.seed(2)\n",
        "X<-rbinom(n = 30, size = 10, prob = 0.3)\n",
        "hist(x = X, main = \"Distribución binomial B(10,0.3)\",\n",
        "     xlab = \"Experimento\", ylab = \"Frecuencia\",\n",
        "     col = \"lightblue\")"
      ],
      "metadata": {
        "id": "nazCXV3xqdPG",
        "colab": {
          "base_uri": "https://localhost:8080/",
          "height": 437
        },
        "outputId": "e22e587a-d1b2-4e98-adac-7c0ca586bab7"
      },
      "execution_count": null,
      "outputs": [
        {
          "output_type": "display_data",
          "data": {
            "text/plain": [
              "Plot with title “Distribución binomial B(10,0.3)”"
            ],
            "image/png": "[encoded data removed]"
          },
          "metadata": {
            "image/png": {
              "width": 420,
              "height": 420
            }
          }
        }
      ]
    },
    {
      "cell_type": "markdown",
      "source": [
        "**Parte B)**\n",
        "\n",
        "¿Qué pasa si tenemos algún valor $k$ y queremos saber cuál es la probabilidad de generar $k$? Es decir, estamos resolviendo la función de masa de probabilidad $P(X=k)$. Entonces usaríamos la función de \"densidad\" `dbinom()`.\n",
        "\n",
        "Sea $X \\sim Bin(15, 0.4)$. A mano, resuelve $P(X=4)$. Luego use la función `dbinom()` para confirmar tu resultado."
      ],
      "metadata": {
        "id": "8Rdzd_QJqdbe"
      }
    },
    {
      "cell_type": "markdown",
      "source": [
        "Sabemos que $X \\sim  Bin(n,p)$ tiene una distribución de probabilidad dada por la siguiente expresión:\n",
        "\n",
        "${\\displaystyle \\operatorname {P} (X=k)={n \\choose k}p^{k}(1-p)^{n-k}} $\n",
        "\n",
        "Por lo tanto para nuestro caso $X\\sim Bin(15,0.4)$ tenemos:\n",
        "\n",
        "$$\n",
        "\\begin{align*}\n",
        "P(X=4)={15 \\choose 4}(0.4)^{4}(0.6)^{11}=\\frac{15!}{4!(15-4)!}(0.4)^{4}(0.6)^{11}=0.1268\n",
        "\\end{align*}\n",
        "$$\n"
      ],
      "metadata": {
        "id": "qNzzVvgtqkKp"
      }
    },
    {
      "cell_type": "code",
      "source": [
        "P<-dbinom(x=4, size =15 ,prob =0.4 )\n",
        "Respuesta24<-round(P,4)\n",
        "Respuesta24"
      ],
      "metadata": {
        "id": "HBuxzF_0qkSf",
        "colab": {
          "base_uri": "https://localhost:8080/",
          "height": 34
        },
        "outputId": "321326ce-e824-4e96-e6c2-22ac1afb7ddf"
      },
      "execution_count": null,
      "outputs": [
        {
          "output_type": "display_data",
          "data": {
            "text/html": [
              "0.1268"
            ],
            "text/markdown": "0.1268",
            "text/latex": "0.1268",
            "text/plain": [
              "[1] 0.1268"
            ]
          },
          "metadata": {}
        }
      ]
    },
    {
      "cell_type": "markdown",
      "source": [
        "**Parte c)**\n",
        "\n",
        "¿Qué pasaría si quisiéramos resolver algún valor de la Función de Densidad Acumulativa? Es decir, sabemos $k$ y queremos encontrar $P(X \\le k) = p$. Entonces usaríamos la \"función de distribución\" `pbinom()`.\n",
        "\n",
        "Sea $X \\sim Bin(15, 0.4)$. A mano, resuelve $P(X \\le 4)$. Luego use la función `pbinom()` para confirmar tu resultado."
      ],
      "metadata": {
        "id": "W9N13QMVqkf6"
      }
    },
    {
      "cell_type": "markdown",
      "source": [
        "$$\n",
        "\\begin{align*}\n",
        "P(X\\leq4)&=P(X=4)+P(X=3)+P(X=2)+P(X=1)+P(X=0)\\\\\n",
        "&=\\sum_{r=0}^{4}{15 \\choose r}(0.4)^{r}(0.6)^{(15-r)}\\\\\n",
        "&=\\sum_{r=0}^{4}\\frac{15!}{r!(15-r)!}(0.4)^{r}(0.6)^{(15-r)}\\\\\n",
        "&=\\frac{15!}{0!(15)!}(0.4)^{0}(0.6)^{(15)}+\\frac{15!}{1!(14)!}(0.4)^{1}(0.6)^{(14)}+\\frac{15!}{2!(13)!}(0.4)^{2}(0.6)^{(13)}+\\frac{15!}{3!(12)!}(0.4)^{3}(0.6)^{(12)}\\frac{15!}{4!(11)!}(0.4)^{4}(0.6)^{(11)}\\\\\n",
        "&=0.0005+0.0047+0.0219+0.0633+0.1268=0.2172\n",
        "\\end{align*}\n",
        "$$"
      ],
      "metadata": {
        "id": "VvwsYfuvqrpo"
      }
    },
    {
      "cell_type": "code",
      "source": [
        "P<-pbinom(4, size = 15, prob = 0.4)\n",
        "Respuesta25<-round(P,4)\n",
        "Respuesta25"
      ],
      "metadata": {
        "colab": {
          "base_uri": "https://localhost:8080/",
          "height": 34
        },
        "id": "9BdGguXQSr9D",
        "outputId": "e7d66811-4e4b-44ef-afa4-23fecbece848"
      },
      "execution_count": null,
      "outputs": [
        {
          "output_type": "display_data",
          "data": {
            "text/html": [
              "0.2173"
            ],
            "text/markdown": "0.2173",
            "text/latex": "0.2173",
            "text/plain": [
              "[1] 0.2173"
            ]
          },
          "metadata": {}
        }
      ]
    },
    {
      "cell_type": "markdown",
      "source": [
        "**Parte d)**\n",
        "\n",
        "Finalmente, tenemos la función \"cuantil\" `qbinom()`. Esta función es lo contrario de la función `pbinom()`, ya que toma una probabilidad $p$ como argumento y devuelve el valor $k$ del CDF que da como resultado esa probabilidad.\n",
        "\n",
        "Utilice la función `qbinom()` para confirmar tus resultados de la **Parte c**. Es decir, introduce la probabilidad que obtuviste de la **Parte c** y vea si obtienes los mismos $k$."
      ],
      "metadata": {
        "id": "JzUP3jQZqsJB"
      }
    },
    {
      "cell_type": "code",
      "source": [
        "Respuesta26<-qbinom(p = 0.4, size = 15, prob = 0.2179)\n",
        "Respuesta26"
      ],
      "metadata": {
        "id": "RUwoQZUjq8PE",
        "colab": {
          "base_uri": "https://localhost:8080/",
          "height": 34
        },
        "outputId": "7f6fa9c9-7cd3-44f9-fa77-f0d908927a5e"
      },
      "execution_count": null,
      "outputs": [
        {
          "output_type": "display_data",
          "data": {
            "text/html": [
              "3"
            ],
            "text/markdown": "3",
            "text/latex": "3",
            "text/plain": [
              "[1] 3"
            ]
          },
          "metadata": {}
        }
      ]
    },
    {
      "cell_type": "markdown",
      "source": [
        "Casi todas las distribuciones tienen estas cuatro funciones, y son muy útiles para cálculos y simulaciones."
      ],
      "metadata": {
        "id": "ZV6j014Kq9Ee"
      }
    },
    {
      "cell_type": "markdown",
      "source": [
        "# Variables aleatorias continuas y variables aleatorias normales"
      ],
      "metadata": {
        "id": "Orl-2-b_tesQ"
      }
    },
    {
      "cell_type": "markdown",
      "source": [
        "### Problema 1\n",
        "\n",
        "Una variable aleatoria continua con función de distribución acumulativa $F$ tiene el valor mediano (mediana) $m$ tal que $F(m) = 0.5$. Es decir, es tan probable que una variable aleatoria sea más grande que su mediana como que sea más pequeña. Una variable aleatoria continua con densidad $f$ tiene el valor de la moda $x$ para el cual $f(x)$ alcanza su máximo. Para cada una de las siguientes tres variables aleatorias, $(i)$ establezca la función de densidad, $(ii)$ calcule la mediana, la moda y la media de la variable aleatoria, y $(iii)$ proporciona al menos un gráfico para la función de densidad utilizando los valores de los parámetros que selecciones. Indica los valores de la mediana, la moda y la media en su gráfico. (El propósito de este problema es ver las ubicaciones relativas de la mediana, la moda y la media de las diferentes variables aleatorias).\n",
        "\n",
        "**a)** $W$ que se distribuye uniformemente sobre el intervalo $[a, b]$, para algún valor $a,b \\in \\mathbb{R}$."
      ],
      "metadata": {
        "id": "6N5KiyC-tfOe"
      }
    },
    {
      "cell_type": "markdown",
      "source": [
        "Sabemos que si $X\\sim U(a,b)$ la función de densidad de probabilidad es:\n",
        "\n",
        "$$\n",
        "  f(x) =\n",
        "  \\begin{cases}\n",
        "                                   \\frac{1}{b-a} & \\text{if $a \\le x \\le b  $} \\\\\n",
        "                                   0 & \\text{else}\n",
        "  \\end{cases}\n",
        "$$\n",
        "\n",
        "Con una $F(x)$ de la siguiente forma:\n",
        "\n",
        "$$\n",
        "\\begin{align*}F(x) =\\int_{-∞}^{x} \\frac{1}{b-a}dx =\\int_{a}^{x} \\frac{1}{b-a}dx = \\frac{x-a}{b-a}\\text{ si $ a\\leq x\\leq b$}\n",
        "\\end{align*}\n",
        "$$\n",
        "\n",
        "De modo que la media está dada por:\n",
        "\n",
        "$$\n",
        "\\begin{align*}F(x=m) &= \\frac{m-a}{b-a}=0.5\\\\\n",
        "⇒m&=(b-a)(0.5)+a=\\frac{b-a}{2}+a=\\frac{b+a}{2}\n",
        "\\end{align*}\n",
        "$$\n",
        "Por lo tanto, la media es: $m=\\dfrac{b+a}{2}$\n",
        "\n",
        "La moda es el valor $x_0$ que cumple con la ecuación siguiente:\n",
        "\n",
        "$$\n",
        "\\begin{align*}\n",
        "\\frac{df}{dx}\\bigg|_{x=x_0}=0\n",
        "\\end{align*}\n",
        "$$\n",
        "\n",
        "Entonces buscamos ese $x_0$:\n",
        "\n",
        "$$\n",
        "\\begin{align*}\n",
        "\\frac{df}{dx}=0\n",
        "\\end{align*}\n",
        "$$\n",
        "Por lo tanto cualquier valor $x\\in[a,b]$ cumple con la condición, lo cual indica que la moda es cualquier $x\\in[a,b]$.\n",
        "\n",
        "La media la podemos calcular de la siguiente forma:\n",
        "\n",
        "$$\n",
        "\\begin{align*}\n",
        "E[X]=\\int_{-\\infty}^{\\infty}xf(x)dx&=\\int_{a}^{b}\\frac{x}{b-a}dx\\\\\n",
        "&=\\frac{x^2}{2(b-a)}\\bigg|_{a}^{b}=\\frac{b^2-a^2}{2(b-a)}\\\\\n",
        "&=\\frac{(b-a)(b+a)}{2(b-a)}\\\\\n",
        "&=\\frac{b+a}{2}\n",
        "\\end{align*}\n",
        "$$\n",
        "\n",
        "Por lo tanto la media es: $E[X]=\\dfrac{b+a}{2}$"
      ],
      "metadata": {
        "id": "OpwE9q_Yk10Y"
      }
    },
    {
      "cell_type": "code",
      "source": [
        "x<- seq(-10,110,length=100)\n",
        "y<- dunif(x,0,100)\n",
        "mediana<-qunif(0.5,0,100)\n",
        "media <-50\n",
        "plot(x, xlim = c(-10,110), xlab = \"x\", y ,ylab = \"Probabilidad\" , main = \"U(0,100)\", type = \"l\" )\n",
        "abline(v=c(media,mediana), col=c(\"green\", \"red\"), lty=c(1,2), lwd=c(2, 2))"
      ],
      "metadata": {
        "id": "6HCsZvYct5u_",
        "colab": {
          "base_uri": "https://localhost:8080/",
          "height": 437
        },
        "outputId": "e37e005f-df4c-404e-deff-45943b773063"
      },
      "execution_count": null,
      "outputs": [
        {
          "output_type": "display_data",
          "data": {
            "text/plain": [
              "Plot with title “U(0,100)”"
            ],
            "image/png": "[encoded data removed]"
          },
          "metadata": {
            "image/png": {
              "width": 420,
              "height": 420
            }
          }
        }
      ]
    },
    {
      "cell_type": "markdown",
      "source": [
        "\n",
        "\n",
        "**b)** $X$ que es normal con los parámetros $\\mu$ y $\\sigma^2$, para algún valor $\\mu, \\sigma^2 \\in \\mathbb{R}$."
      ],
      "metadata": {
        "id": "mvs7tzxBt6BC"
      }
    },
    {
      "cell_type": "markdown",
      "source": [
        "Sabemos que si $X\\sim N(\\mu,\\sigma^2)$, su función de densidad de probabilidad es:\n",
        "\n",
        "$$\n",
        "\\begin{align*}\n",
        "f(x)=\\frac{1}{\\sqrt{2\\pi\\sigma^2}}e^{-\\frac{(x-\\mu)^2}{2\\sigma^2}}\n",
        "\\end{align*}\n",
        "$$\n",
        "\n",
        "Con $F(x)$ dada de la siguiente manera:\n",
        "\n",
        "$$\n",
        "\\begin{align*}\n",
        "F(x)=\\frac{1}{\\sqrt{2\\pi\\sigma^2}}\\int_{-\\infty}^{x}e^{-\\frac{(x-\\mu)^2}{2\\sigma^2}} dx\n",
        "\\end{align*}\n",
        "$$\n",
        "\n",
        "De modo que la media está dada por\n",
        "\n",
        "$$\n",
        "\\begin{align*}\n",
        "F(m)=\\frac{1}{\\sqrt{2\\pi\\sigma^2}}\\int_{-\\infty}^{m}e^{-\\frac{(x-\\mu)^2}{2\\sigma^2}} dx=0.5\n",
        "\\end{align*}\n",
        "$$\n",
        "\n",
        "Realizando el siguiente cambio de variable $Z=\\frac{x-\\mu}{\\sigma}$, la integral se transforma de la siguiente manera:\n",
        "\n",
        "si $x→-\\infty ⇒z→-\\infty$   \n",
        "si $x→-m ⇒z→\\frac{m-\\mu}{\\sigma}$ y $\\frac{dz}{dx}=\\frac{1}{\\sigma}$\n",
        "\n",
        "$$\n",
        "\\begin{align*}\n",
        "F(m)&=\\frac{1}{\\sqrt{2\\pi\\sigma^2}}\\int_{-\\infty}^{\\frac{m-\\mu}{\\sigma}}\\sigma e^{-\\frac{z^2}{2}}dz\\\\\n",
        "&=\\frac{1}{\\sqrt{2\\pi}}\\int_{-\\infty}^{\\frac{m-\\mu}{\\sigma}}e^{-\\frac{z^2}{2}}dz=0.5\\\\\n",
        "\\end{align*}\n",
        "$$\n",
        "\n",
        "Pero sabemos que:\n",
        "$$\n",
        "\\begin{align*}\n",
        "\\frac{1}{\\sqrt{2\\pi}}\\int_{-\\infty}^{0}&e^{-\\frac{z^2}{2}}dz=\\frac{1}{2}\n",
        "\\end{align*}\n",
        "$$\n",
        "\n",
        "Entonces se tiene la siguiente igualdad\n",
        "\n",
        "$$\n",
        "\\begin{align*}\n",
        "\\frac{1}{\\sqrt{2\\pi}}\\int_{-\\infty}^{\\frac{m-\\mu}{\\sigma}}e^{-\\frac{z^2}{2}}dz=\\frac{1}{\\sqrt{2\\pi}}\\int_{-\\infty}^{0}&e^{-\\frac{z^2}{2}}dz\n",
        "\\end{align*}\n",
        "$$\n",
        "\n",
        "Como la función es la misma, entonces los límites de evaluación deben ser los mismos, por lo cual se obtiene la siguiente ecuación:\n",
        "\n",
        "$$\n",
        "\\begin{align*}\n",
        "\\frac{m-\\mu}{\\sigma}&=0\\\\\n",
        "⇔ m&=\\mu\n",
        "\\end{align*}\n",
        "$$\n",
        "\n",
        "Por lo tanto la media es $m=\\mu$\n",
        "\n",
        "La moda es el valor $x_0$ que cumple con la ecuación siguiente:\n",
        "\n",
        "$$\n",
        "\\begin{align*}\n",
        "\\frac{df}{dx}\\bigg|_{x=x_0}=0\n",
        "\\end{align*}\n",
        "$$\n",
        "\n",
        "Entonces buscamos ese $x_0$:\n",
        "\n",
        "$$\n",
        "\\begin{align*}\n",
        "\\frac{df}{dx}&=\\frac{1}{\\sqrt{2\\pi\\sigma^2}}e^{-\\frac{(x-\\mu)^2}{2\\sigma^2}}\\cdot \\left[ -\\frac{2}{{2\\sigma^2}}(x-\\mu) \\right]\\\\\n",
        "&=-\\left(\\frac{x-\\mu}{\\sigma^2}\\right)\\left(\\frac{1}{\\sqrt{2\\pi\\sigma^2}}e^{-\\frac{(x-\\mu)^2}{2\\sigma^2}}\\right)\n",
        "\\end{align*}\n",
        "$$\n",
        "\n",
        "dado que $ce^{-kx^2}\\neq 0 \\text{ } \\text{ y }∀c\\in \\mathbb{R}\\backslash \\{0\\}$, la unica forma que $\\frac{df}{dx}=0$ es cuando $\\frac{x-\\mu}{\\sigma}=0$, es decir $x=0$, por lo tanto:\n",
        "\n",
        "$$\n",
        "\\begin{align*}\n",
        "\\frac{df}{dx}\\bigg|_{x_0=0}=0 ⇔ x_0=\\mu\n",
        "\\end{align*}\n",
        "$$\n",
        "\n",
        "Por lo tanto la moda es $x_0=\\mu$\n",
        "\n",
        "La media la podemos calcular de la siguiente forma:\n",
        "\n",
        "\n",
        "$$\n",
        "\\begin{align*}\n",
        "E[X]=\\int_{-\\infty}^{\\infty}xf(x)dx&=\\frac{1}{\\sqrt{2\\pi\\sigma^2}}\\int_{-\\infty}^{\\infty}xe^{-\\frac{(x-\\mu)^2}{2\\sigma^2}}dx\\\\\n",
        "\\end{align*}\n",
        "$$\n",
        "\n",
        "Realizando el siguiente cambio de variable $Z=\\frac{x-\\mu}{\\sigma}$, de manera que $x=\\mu+\\sigma z$ la integral se transforma de la siguiente manera:\n",
        "\n",
        "si $x→-\\infty ⇒z→-\\infty$   \n",
        "si $x→-\\infty ⇒z→\\in$ y $\\frac{dx}{dz}=\\sigma$\n",
        "\n",
        "Por lo tanto\n",
        "\n",
        "$$\n",
        "\\begin{align*}\n",
        "E[X]&=\\frac{1}{\\sqrt{2\\pi}}\\int_{-\\infty}^{\\infty}(\\mu + \\sigma z)e^{-\\frac{z^2}{2}}dz\\\\\n",
        "&=\\frac{1}{\\sqrt{2\\pi}}\\int_{-\\infty}^{\\infty} \\mu\\cdot e^{-\\frac{z^2}{2}}dz + \\frac{1}{\\sqrt{2\\pi}}\\int_{-\\infty}^{\\infty} \\sigma z\\cdot e^{-\\frac{z^2}{2}}dz\\\\\n",
        "&=\\mu \\left( \\frac{1}{\\sqrt{2\\pi}}\\int_{-\\infty}^{\\infty} e^{-\\frac{z^2}{2}}dz \\right) + \\sigma\\left( \\frac{1}{\\sqrt{2\\pi}}\\int_{-\\infty}^{\\infty} z\\cdot e^{-\\frac{z^2}{2}}dz \\right)\n",
        "\\end{align*}\n",
        "$$\n",
        "\n",
        "Pero sabemos que\n",
        "\n",
        "$$\n",
        "\\begin{align*}\n",
        "\\frac{1}{\\sqrt{2\\pi}}\\int_{-\\infty}^{\\infty} e^{-\\frac{z^2}{2}}dz=1\n",
        "\\end{align*}\n",
        "$$\n",
        "\n",
        "Y también notamos que\n",
        "\n",
        "$$\n",
        "\\begin{align*}\n",
        "\\frac{1}{\\sqrt{2\\pi}}\\int_{-\\infty}^{\\infty} ze^{-\\frac{z^2}{2}}dz=0\n",
        "\\end{align*}\n",
        "$$\n",
        "\n",
        "Ya que se trata del producto de una función par $g(z)=e^{-\\frac{z^2}{2}}$ por una impar $h(z)=z$ en un intervalo simétrico, por lo tanto:\n",
        "\n",
        "$$\n",
        "\\begin{align*}\n",
        "E[X]=\\mu (1)+ \\sigma(0)=\\mu\n",
        "\\end{align*}\n",
        "$$\n",
        "\n",
        "Por lo tanto la moda es $E[X]=\\mu$"
      ],
      "metadata": {
        "id": "66nZH3Yjta2h"
      }
    },
    {
      "cell_type": "code",
      "source": [
        "x<- seq(-10,10,length=100)\n",
        "y<-dnorm(x, mean = 0, sd = 1)\n",
        "mediana<-qnorm(0.5,0,1)\n",
        "media<-0\n",
        "moda<-0\n",
        "plot(x, xlim = c(-10,10), xlab = \"x\", y ,ylab = \"Probabilidad\" , main = \"N(0,1)\", type = \"l\" )\n",
        "abline(v=c(media,mediana,moda), col=c(\"green\", \"red\",\"blue\"), lty=c(1,2,3), lwd=c(2, 2,2))\n",
        "\n"
      ],
      "metadata": {
        "id": "TiW8ThY7uBEB",
        "colab": {
          "base_uri": "https://localhost:8080/",
          "height": 437
        },
        "outputId": "faa12299-ac09-4bd5-d2e0-b97228de666f"
      },
      "execution_count": null,
      "outputs": [
        {
          "output_type": "display_data",
          "data": {
            "text/plain": [
              "Plot with title “N(0,1)”"
            ],
            "image/png": "[encoded data removed]"
          },
          "metadata": {
            "image/png": {
              "width": 420,
              "height": 420
            }
          }
        }
      ]
    },
    {
      "cell_type": "markdown",
      "source": [
        "**c)** $Y$ que es exponencial con tasa $\\lambda \\in \\mathbb{R}$."
      ],
      "metadata": {
        "id": "Z0U0hykOuBUe"
      }
    },
    {
      "cell_type": "markdown",
      "source": [
        "Sabemos que si $X\\sim exp(\\lambda)$ la función de densidad de probabilidad es:\n",
        "\n",
        "$$\n",
        "  f(x) =\n",
        "  \\begin{cases}\n",
        "                                   \\lambda e^{-\\lambda x} & \\text{if $x > 0  $} \\\\\n",
        "                                   0 & \\text{else}\n",
        "  \\end{cases}\n",
        "$$\n",
        "\n",
        "Con una $F(x)$ de la siguiente forma:\n",
        "\n",
        "$$\n",
        "\\begin{align*}\n",
        "F(x)&=\\int_{-∞}^{x}f(x)dx=\\int_{0}^{x}\\lambda e^{-\\lambda t}dt\\\\\n",
        "&=-e^{-\\lambda t} \\bigg|_{0}^{x}=1-e^{-\\lambda x}\n",
        "\\end{align*}\n",
        "$$\n",
        "\n",
        "Por lo tanto:\n",
        "\n",
        "$$\n",
        "  F(x) =\n",
        "  \\begin{cases}\n",
        "                                   1-e^{-\\lambda x} & \\text{if $x > 0  $} \\\\\n",
        "                                   0 & \\text{else}\n",
        "  \\end{cases}\n",
        "$$\n",
        "\n",
        "De modo que la media está dada por:\n",
        "\n",
        "$$\n",
        "\\begin{align*}\n",
        "  F(m)=1-e^{-\\lambda m}&=\\frac{1}{2}\\\\\n",
        "  ⇒e^{-\\lambda m}&=1-\\frac{1}{2}\\\\\n",
        "  ⇒e^{-\\lambda m}&=\\frac{1}{2}\\\\\n",
        "  ⇒\\ln \\left(e^{-\\lambda m}\\right)&=\\ln\\left(\\frac{1}{2}\\right)\\\\\n",
        "  ⇒-\\lambda m &= \\ln\\left(\\frac{1}{2}\\right)\\\\\n",
        "  ⇒\\lambda m &= \\ln\\left(2\\right)\\\\\n",
        "  ⇒ m = \\frac{\\ln(2)}{\\lambda}\n",
        "\\end{align*}\n",
        "$$\n",
        "\n",
        "Por lo tanto la media es $m = \\dfrac{\\ln(2)}{\\lambda}$\n",
        "\n",
        "La moda es el valor $x_0$ que máximiza la PDF:\n",
        "\n",
        "$$\n",
        "\\begin{align*}\n",
        "x_0 = \\text{arg max}[f(x)]\n",
        "\\end{align*}\n",
        "$$\n",
        "\n",
        "De manera que\n",
        "$$\n",
        "\\begin{align*}\n",
        "e^{-\\lambda x}=1 \\text{ para $x=0$}\n",
        "\\end{align*}\n",
        "$$\n",
        "\n",
        "mientras que\n",
        "\n",
        "$$\n",
        "\\begin{align*}\n",
        "e^{-\\lambda x}=0 \\text{ para $x>0$}\n",
        "\\end{align*}\n",
        "$$\n",
        "\n",
        "Y también\n",
        "\n",
        "$$\n",
        "\\begin{align*}\n",
        "0 < e^{-\\lambda x}< 1 \\text{ para $x<0$}\n",
        "\\end{align*}\n",
        "$$\n",
        "\n",
        "De manera que\n",
        "\n",
        "$$\n",
        "x_0 = \\text{arg max}[f(x)]=0\n",
        "$$\n",
        "\n",
        "Por lo tanto la moda es $x_0=0$\n",
        "\n",
        "La media la podemos calcular de la siguiente forma:\n",
        "\n",
        "$$\n",
        "\\begin{align*}\n",
        "E[X]=\\int_{-\\infty}^{\\infty}xf(x)dx&=\\int_{0}^{∞}x\\lambda e^{-\\lambda x}dx\\\\\n",
        "&=\\lambda \\int_{0}^{\\infty}xe^{-\\lambda x}dx\\\\\n",
        "\\end{align*}\n",
        "$$\n",
        "\n",
        "Sean $u=x$, $u'(x)=1$ , $v'(x)=e^{-\\lambda x}$ y $v=-\\frac{1}{\\lambda}e^{-\\lambda x}$ de tal manera que\n",
        "\n",
        "$$\n",
        "\\begin{align*}\n",
        "\\lambda \\int xe^{-\\lambda x}dx&=\\lambda \\left[-\\frac{x}{\\lambda}e^{-\\lambda x}+\\frac{1}{\\lambda} \\int e^{-\\lambda x} dx\\right]\\\\\n",
        "&=\\lambda \\left[ -\\frac{x}{\\lambda}e^{-\\lambda x}-\\frac{1}{\\lambda^2}e^{-\\lambda x} \\right]\\\\\n",
        "&=-xe^{-\\lambda x}-\\frac{1}{\\lambda}e^{-\\lambda x}\\\\\n",
        "&=-\\left( \\frac{\\lambda x+1}{\\lambda}\\right)e^{-\\lambda x}\n",
        "\\end{align*}\n",
        "$$\n",
        "\n",
        "Entonces tenemos:\n",
        "\n",
        "$$\n",
        "\\begin{align*}\n",
        "E[X]&=-\\left( \\frac{\\lambda x+1}{\\lambda}\\right)e^{-\\lambda x}\\bigg|_{0}^{\\infty}\\\\\n",
        "&=\\lim_{x\\to \\infty} \\left( -\\frac{\\lambda x+1}{\\lambda}\\right)e^{-\\lambda x}+\\left( \\frac{\\lambda(0)+1}{\\lambda}\\right)e^{0}\\\\\n",
        "&=0+\\frac{1}{\\lambda}\\\\\n",
        "&=\\frac{1}{\\lambda}\\\\\n",
        "\\end{align*}\n",
        "$$\n",
        "\n",
        "Por lo tanto la media es $E[X]=\\frac{1}{\\lambda}$"
      ],
      "metadata": {
        "id": "Auy-jqjvtfVX"
      }
    },
    {
      "cell_type": "code",
      "source": [
        "x<- seq(-2,10,length=100)\n",
        "y<-dexp(x,1)\n",
        "mediana<-qexp(0.5,1)\n",
        "media<-1\n",
        "moda<-0\n",
        "plot(x, xlim = c(-2,10), xlab = \"x\", y ,ylab = \"Probabilidad\" , main = \"Exp(2)\", type = \"l\" )\n",
        "abline(v=c(moda,mediana,media), col=c(\"green\", \"red\",\"blue\"), lty=c(5,5,5), lwd=c(2,2,2))\n"
      ],
      "metadata": {
        "id": "zU1qSqMFteMh",
        "colab": {
          "base_uri": "https://localhost:8080/",
          "height": 437
        },
        "outputId": "c9a20a80-a48b-42a6-b518-b8595f20f1ff"
      },
      "execution_count": null,
      "outputs": [
        {
          "output_type": "display_data",
          "data": {
            "text/plain": [
              "Plot with title “Exp(2)”"
            ],
            "image/png": "[encoded data removed]"
          },
          "metadata": {
            "image/png": {
              "width": 420,
              "height": 420
            }
          }
        }
      ]
    },
    {
      "cell_type": "markdown",
      "source": [
        "### Problema 2\n",
        "\n",
        "Para este problema, vamos a visualizar lo que sucede cuando pasamos de una distribución normal a otra.\n",
        "\n",
        "**Parte A)**\n",
        "\n",
        "Extrae al menos $10000$ muestras de la distribución normal estándar $N(0,1)$ y almacena los resultados. Haz un histograma de la densidad de estas muestras. Establece los límites de $x$ para tu gráfico en $[-10,10]$ y los límites de $y$ en $[0,0,5]$ para que puedas compararlos con los gráficos que harás en las **Partes B-D **."
      ],
      "metadata": {
        "id": "lZR0j6ABuH89"
      }
    },
    {
      "cell_type": "markdown",
      "source": [],
      "metadata": {
        "id": "IspZjOmiuWD1"
      }
    },
    {
      "cell_type": "code",
      "source": [
        "set.seed(2)\n",
        "Xa<-rnorm(n = 10000, mean = 0, sd = 1)\n",
        "hist(x = Xa, xlim = c(-10,10), ylim=c(0,0.5),main = \"Distribución Normal N(1,0)\",\n",
        "     xlab = \"x\", ylab = \"Probabilidad\",\n",
        "     col = \"lightblue\",freq = FALSE)"
      ],
      "metadata": {
        "id": "TTi6qULUuWNn",
        "colab": {
          "base_uri": "https://localhost:8080/",
          "height": 437
        },
        "outputId": "54be4f62-d333-43da-8123-7eef33572d3b"
      },
      "execution_count": null,
      "outputs": [
        {
          "output_type": "display_data",
          "data": {
            "text/plain": [
              "Plot with title “Distribución Normal N(1,0)”"
            ],
            "image/png": "[encoded data removed]"
          },
          "metadata": {
            "image/png": {
              "width": 420,
              "height": 420
            }
          }
        }
      ]
    },
    {
      "cell_type": "markdown",
      "source": [
        "**Parte b)** Ahora genera una muestra de $10000$ a partir de una distribución $N(2,3)$ y traza un histograma de los resultados, con los mismos límites en $x$ e $y$. ¿Tiene sentido el histograma en función de los cambios de los parámetros?\n",
        "\n",
        "Nota: Ten cuidado con los parámetros de `rnorm`. Puede ser útil revisar la documentación."
      ],
      "metadata": {
        "id": "wsW8BAO6uWXw"
      }
    },
    {
      "cell_type": "markdown",
      "source": [
        "Sí, ya que al la desviación estándar está relacionada con la dispersión de los datos (la anchura de la curva) de manera que al tener una mayor desviación estándar, esta sería más ancha, además la media cambia por un valor positivo, por lo cual la grafica se recorrería a la derecha."
      ],
      "metadata": {
        "id": "AR8fnp_zuxwO"
      }
    },
    {
      "cell_type": "code",
      "source": [
        "set.seed(2)\n",
        "Xb<-rnorm(n = 10000, mean = 2, sd = 3**(1/2))\n",
        "hist(x = Xb,xlim=c(-10,10),ylim=c(0,0.5),main = \"Distribución Normal N(2,3)\",\n",
        "     xlab = \"x\", ylab = \"Probabilidad\",\n",
        "     col = \"lightgreen\",freq = FALSE)"
      ],
      "metadata": {
        "id": "itkkAjAWux6C",
        "colab": {
          "base_uri": "https://localhost:8080/",
          "height": 437
        },
        "outputId": "0a4374df-1792-450d-bc11-85b0d7415ff9"
      },
      "execution_count": null,
      "outputs": [
        {
          "output_type": "display_data",
          "data": {
            "text/plain": [
              "Plot with title “Distribución Normal N(2,3)”"
            ],
            "image/png": "[encoded data removed]"
          },
          "metadata": {
            "image/png": {
              "width": 420,
              "height": 420
            }
          }
        }
      ]
    },
    {
      "cell_type": "markdown",
      "source": [
        "**Parte c)**\n",
        "\n",
        "Supongamos que solo podemos muestrear de la distribución normal estándar $N(0,1)$. ¿Podríamos tomar esas muestras y realizar una transformación simple para que sean muestras de $N(2,3)$? Intenta esto y traza otro histograma de los datos transformados, nuevamente con los mismos ejes. ¿Tu histograma basado en los datos transformados se parece al histograma de la **Parte B**?\n"
      ],
      "metadata": {
        "id": "9BH8FuUCu2bm"
      }
    },
    {
      "cell_type": "markdown",
      "source": [
        "Es posible y se logra mediante la siguiente expresión:\n",
        "\n",
        "$$\n",
        "\\begin{align*}\n",
        "N(\\mu,\\sigma^2)=\\mu+\\sigma N(0,1)\n",
        "\\end{align*}\n",
        "$$"
      ],
      "metadata": {
        "id": "hwj1HY3QvDyU"
      }
    },
    {
      "cell_type": "code",
      "source": [
        "Xc<-2+(3**0.5)*Xa #hacemos la transformación de la normal\n",
        "hist(x = Xc,xlim=c(-10,10),ylim=c(0,0.5), main = \"X=μ+σN(1,0)\",\n",
        "     xlab = \"x\", ylab = \"Probabilidad\",\n",
        "     col = \"lightgreen\",freq = FALSE)"
      ],
      "metadata": {
        "id": "-xqPAdq_vD9A",
        "colab": {
          "base_uri": "https://localhost:8080/",
          "height": 437
        },
        "outputId": "bf98668b-ce7e-44bc-fba7-8e8c26d0f4d1"
      },
      "execution_count": null,
      "outputs": [
        {
          "output_type": "display_data",
          "data": {
            "text/plain": [
              "Plot with title “X=μ+σN(1,0)”"
            ],
            "image/png": "[encoded data removed]"
          },
          "metadata": {
            "image/png": {
              "width": 420,
              "height": 420
            }
          }
        }
      ]
    },
    {
      "cell_type": "markdown",
      "source": [
        "Podemos notar que las distribuciones sí se parecen (deberían ser idénticas teóricamente).\n"
      ],
      "metadata": {
        "id": "0ePXCTFyc8Ra"
      }
    },
    {
      "cell_type": "markdown",
      "source": [
        "**Parte d)**\n",
        "\n",
        "Pero, ¿se puede volver por el otro lado? ¿Tomar las muestras de $N(2,3)$ de la **Parte B** y transformarlas en muestras de $N(0,1)$? Prueba algunas transformaciones y haz un histograma de densidad de tus datos transformados. ¿Se parece a la gráfica de $N(0,1)$ datos de la **Parte A**?"
      ],
      "metadata": {
        "id": "OBPSNfkCvEGF"
      }
    },
    {
      "cell_type": "markdown",
      "source": [
        "Claro que se puede, mediante la siguiente transformación:\n",
        "\n",
        "$$\n",
        "\\begin{align*}\n",
        "N(0,1)=\\frac{N(\\mu,\\sigma^2)-\\mu}{\\sigma}\n",
        "\\end{align*}\n",
        "$$"
      ],
      "metadata": {
        "id": "lae15Mw_vK8j"
      }
    },
    {
      "cell_type": "code",
      "source": [
        "Xd<-(Xb-2)/(3**0.5) #hacemos la transformación inversa de la normal\n",
        "hist(x = Xd,xlim=c(-10,10),ylim=c(0,0.5), main = \"N(0,1)=(N(μ,σ²)-μ)/σ\",\n",
        "     xlab = \"x\", ylab = \"Probabilidad\",\n",
        "     col = \"lightblue\",freq = FALSE)"
      ],
      "metadata": {
        "id": "B7V72DfmvLHp",
        "colab": {
          "base_uri": "https://localhost:8080/",
          "height": 437
        },
        "outputId": "b116de33-c640-42e5-d2fd-6da4ff8dcdc2"
      },
      "execution_count": null,
      "outputs": [
        {
          "output_type": "display_data",
          "data": {
            "text/plain": [
              "Plot with title “N(0,1)=(N(μ,σ²)-μ)/σ”"
            ],
            "image/png": "[encoded data removed]"
          },
          "metadata": {
            "image/png": {
              "width": 420,
              "height": 420
            }
          }
        }
      ]
    },
    {
      "cell_type": "markdown",
      "source": [
        "Vemos que las distribuciones se parecen (deberían ser idénticas teóricamente)."
      ],
      "metadata": {
        "id": "JnkhyuQNgJ7d"
      }
    },
    {
      "cell_type": "markdown",
      "source": [
        "# Cálculos de covarianza y correlación en varios ejemplos"
      ],
      "metadata": {
        "id": "_jtj4QnBxkvK"
      }
    },
    {
      "cell_type": "markdown",
      "source": [
        "### Problema 1\n",
        "\n",
        "Imagina que tiras dos dados justos de seis caras. Sea $X$ el mayor de los dos valores. Sea $Y$ el menor de los dos valores.\n",
        "\n",
        "**a)** Construye una tabla que proporcione la función de masa de probabilidad conjunta para $X$ y $Y$. (Nota: \"X es el valor mayor e Y es el valor menor en una tirada de dos dados\" significa que para cualquier tirada de dos dados, X será mayor o igual que Y)."
      ],
      "metadata": {
        "id": "MfNA_MtWxlRn"
      }
    },
    {
      "cell_type": "markdown",
      "source": [
        "\n",
        "| P(X=x,Y=y) |  Y=1 | Y=2  | Y=3  | Y=4  | Y=5  | Y=6  |\n",
        "|-----| -----| -----| -----| -----| -----| -----|\n",
        "| X=1 | 1/36 | 1/36 | 1/36 | 1/36 | 1/36 | 1/36 |\n",
        "| X=2 | 1/36 | 1/36 | 1/36 | 1/36 | 1/36 | 1/36 |\n",
        "| X=3 | 1/36 | 1/36 | 1/36 | 1/36 | 1/36 | 1/36 |\n",
        "| X=4 | 1/36 | 1/36 | 1/36 | 1/36 | 1/36 | 1/36 |\n",
        "| X=5 | 1/36 | 1/36 | 1/36 | 1/36 | 1/36 | 1/36 |\n",
        "| X=6 | 1/36 | 1/36 | 1/36 | 1/36 | 1/36 | 1/36 |\n"
      ],
      "metadata": {
        "id": "fDnZ2H3exyDI"
      }
    },
    {
      "cell_type": "markdown",
      "source": [
        "**b)** ¿Cuánto es $P(X \\ge 3, Y = 1)$?"
      ],
      "metadata": {
        "id": "oUmZ6SzExymA"
      }
    },
    {
      "cell_type": "markdown",
      "source": [],
      "metadata": {
        "id": "r8ctpZYyx2cb"
      }
    },
    {
      "cell_type": "code",
      "source": [
        "Respuesta27<-3/21"
      ],
      "metadata": {
        "id": "7ZuOjMS8x2kL"
      },
      "execution_count": null,
      "outputs": []
    },
    {
      "cell_type": "markdown",
      "source": [
        "**c)** ¿Cuánto es $P(X \\ge Y + 2)$?"
      ],
      "metadata": {
        "id": "4Ai74tVdx2vX"
      }
    },
    {
      "cell_type": "markdown",
      "source": [
        "Para este caso sabemso que $X$ puede tomar los valores siguientes $\\{3,4,5,6\\}$ y $Y$ puede tomar $\\{1,2,3,4\\}$\n",
        "\n",
        "Entonces:\n",
        "\n",
        "$$\n",
        "\\begin{align*}\n",
        "P(X\\geq Y+2) =&P(X\\geq 3,Y=1)+P(X\\geq 4,Y=2)+P(X\\geq 5,Y=3)+P(X=6,Y=4)\\\\\n",
        "=&P(X=3,Y=1)+P(X=4,Y=1)+P(X=5,Y=1)+P(X=6,Y=1)\\\\\n",
        "&P(X=4,Y=2)+P(X=5,Y=2)+P(X=6,Y=2)\\\\\n",
        "&P(X=5,Y=3)+P(X=6,Y=3)\\\\\n",
        "&P(X=6,Y=4)\\\\\n",
        "=&\\frac{1}{36}+\\frac{1}{36}+\\frac{1}{36}+\\frac{1}{36}+\\\\\n",
        "&\\frac{1}{36}+\\frac{1}{36}+\\frac{1}{36}+\\\\\n",
        "&\\frac{1}{36}+\\frac{1}{36}+\\\\\n",
        "&\\frac{1}{36}=\\frac{10}{36}\n",
        "\\end{align*}\n",
        "$$\n",
        "\n",
        "Alternativamente se pude resolver el problema usando la propiedad $P(X=x,Y=y)=P(X=x)P(Y=y)$ como se muestra a continuación:\n",
        "\n",
        "$$\n",
        "\\begin{align*}\n",
        "P(X\\geq Y+2)&=P(X\\geq 3,Y=1)+P(X\\geq 4,Y=2)+P(X\\geq 5,Y=3)+P(X=6,Y=4)\\\\\n",
        "&=P(X≥3)P(Y=1)+P(X≥4)P(Y=2)+P(X≥5)P(Y=3)+P(X=6)P(Y=4)\\\\\n",
        "&=\\left( \\frac{4}{6} \\right)\\left( \\frac{1}{6} \\right)+\\left( \\frac{3}{6} \\right)\\left( \\frac{1}{6} \\right)+\\left( \\frac{2}{6} \\right)\\left( \\frac{1}{6} \\right)+\\left( \\frac{1}{6} \\right)\\left( \\frac{1}{6} \\right)\\\\\n",
        "&=\\left( \\frac{4+3+2+1}{36} \\right)\\\\\n",
        "&=\\left( \\frac{10}{36} \\right)\n",
        "\\end{align*}\n",
        "$$"
      ],
      "metadata": {
        "id": "-e3F3XA1x6CW"
      }
    },
    {
      "cell_type": "code",
      "source": [
        "\n",
        "Respuesta28<-round(10/36,4)\n",
        "Respuesta28\n"
      ],
      "metadata": {
        "id": "GcXucyJUx6MA",
        "colab": {
          "base_uri": "https://localhost:8080/",
          "height": 34
        },
        "outputId": "25a2fa3b-c0f0-4567-c310-e996b0897195"
      },
      "execution_count": null,
      "outputs": [
        {
          "output_type": "display_data",
          "data": {
            "text/html": [
              "0.2778"
            ],
            "text/markdown": "0.2778",
            "text/latex": "0.2778",
            "text/plain": [
              "[1] 0.2778"
            ]
          },
          "metadata": {}
        }
      ]
    },
    {
      "cell_type": "markdown",
      "source": [
        "**d)** ¿Son $X$ y $Y$ independientes? Explique."
      ],
      "metadata": {
        "id": "ltG7rhx2x6Tq"
      }
    },
    {
      "cell_type": "markdown",
      "source": [
        "Sí lo son ya que en realidad el resultado de lanzar un dado no influye en el segundo, nosotros solo estamos calculando probabilidades de sucesos en donde sí están relacionados pero eso no implica que el lanzamiento del segundo dado se vea influenciado por el primero.\n",
        "\n",
        "Además $P(X=x,Y=y)=P(X=x)P(Y=y)$"
      ],
      "metadata": {
        "id": "4S9gNb7px_ZK"
      }
    },
    {
      "cell_type": "markdown",
      "source": [
        "### Problema 2\n",
        "\n",
        "Sean $(X, Y)$ variables aleatorias continuas con PDF conjunta:\n",
        "\n",
        "$$\n",
        "  f(x,y) =\n",
        "  \\begin{cases}\n",
        "                                   cxy^2 & \\text{if $0 \\le x \\le 1 \\text{ and } 0 \\le y \\le 1$} \\\\\n",
        "                                   0 & \\text{else}\n",
        "  \\end{cases}\n",
        "$$\n",
        "\n",
        "**Parte a)**\n",
        "\n",
        "Encuentra $c$. Muestra tu trabajo."
      ],
      "metadata": {
        "id": "9pYxhNLex_pE"
      }
    },
    {
      "cell_type": "markdown",
      "source": [
        "Dado que $f(x,y)$ es una distribución de probabilidad, deben cumplir las siguientes propiedades:\n",
        "\n",
        "\n",
        "* $f(x,y)\\geq 0$  $\\forall$ $[x,y] \\in \\mathbb{R}^2$\n",
        "* $\\int_{-\\infty}^{\\infty}\\int_{-\\infty}^{\\infty}f(x,y) dxdy=1$\n",
        "\n",
        "Por lo cual necesitamos que $c>0$\n",
        "\n",
        "Calculando la integral:\n",
        "\n",
        "$$\n",
        "\\begin{align*}\n",
        "\\int_{-\\infty}^{\\infty}\\int_{-\\infty}^{\\infty}f(x,y) dxdy&=\\int_{0}^{1}\\int_{0}^{1}cxy^2dxdy \\\\\n",
        "&=c\\int_{0}^{1}x dx \\int_{0}^{1}y^2dy\\\\\n",
        "&=c\\left( \\frac{x^2}{2}\\bigg|_{0}^{1} \\right)\\left( \\frac{y^3}{3}\\bigg|_{0}^{1} \\right)\\\\\n",
        "&=c\\left( \\frac{1}{2}\\right)\\left(\\frac{1}{3}\\right)\\\\\n",
        "&=\\frac{c}{6}=1\\\\\n",
        "⟹ c&=6\n",
        "\\end{align*}\n",
        "$$\n",
        "\n",
        "Por lo tanto:\n",
        "\n",
        "$$\n",
        "  f(x,y) =\n",
        "  \\begin{cases}\n",
        "                                   6xy^2 & \\text{if $0 \\le x \\le 1 \\text{ and } 0 \\le y \\le 1$} \\\\\n",
        "                                   0 & \\text{else}\n",
        "  \\end{cases}\n",
        "$$\n"
      ],
      "metadata": {
        "id": "4TIKJ-KXyK5v"
      }
    },
    {
      "cell_type": "code",
      "source": [
        "Respuesta29<-6 #c=6\n",
        "Respuesta29"
      ],
      "metadata": {
        "id": "QVabSO4WyLDo",
        "colab": {
          "base_uri": "https://localhost:8080/",
          "height": 34
        },
        "outputId": "dba27b40-d832-486e-bd39-c9e493bf6b6a"
      },
      "execution_count": null,
      "outputs": [
        {
          "output_type": "display_data",
          "data": {
            "text/html": [
              "6"
            ],
            "text/markdown": "6",
            "text/latex": "6",
            "text/plain": [
              "[1] 6"
            ]
          },
          "metadata": {}
        }
      ]
    },
    {
      "cell_type": "markdown",
      "source": [
        "**Parte B)**\n",
        "\n",
        "Encuentre las distribuciones marginales $f_X(x)$ y $f_Y(y)$. Muestra tu trabajo."
      ],
      "metadata": {
        "id": "1cXjOsNZyLK-"
      }
    },
    {
      "cell_type": "markdown",
      "source": [
        "Dado que tanto $f_X(x)$ y $f_Y(y)$ son también distribuciones de probabilidad, tenemos que:\n",
        "* $\\int_{-\\infty}^{\\infty}c_xf_X(x)dx=1$\n",
        "* $\\int_{-\\infty}^{\\infty}c_yf_Y(y)dx=1$\n",
        "\n",
        "considerando que $f(x,y)=f_X(x)\\cdot f_Y(y)$\n",
        "\n",
        "Por lo cual se deduce que $c=c_x\\cdot c_y$,\n",
        "\n",
        "\n",
        "$$\n",
        "\\begin{align*}\n",
        "\\int_{-\\infty}^{\\infty}f_X(x) dx&=\\int_{0}^{1}c_xxdx \\\\\n",
        "&=c_x\\int_{0}^{1}x dx\\\\\n",
        "&=c_x\\left( \\frac{x^2}{2}\\bigg|_{0}^{1} \\right)\\\\\n",
        "&=c_x\\left( \\frac{1}{2}\\right)=1\\\\\n",
        "⟹ c_x&=2\n",
        "\\end{align*}\n",
        "$$\n",
        "\n",
        "Y también\n",
        "\n",
        "\n",
        "$$\n",
        "\\begin{align*}\n",
        "\\int_{-\\infty}^{\\infty}f_Y(y)dy&=\\int_{0}^{1}c_yy^2dy \\\\\n",
        "&=c_y\\int_{0}^{1}y^2dy\\\\\n",
        "&=c_y\\left( \\frac{y^3}{3}\\bigg|_{0}^{1} \\right)\\\\\n",
        "&=c_y\\left(\\frac{1}{3}\\right)\\\\\n",
        "&=\\frac{c}{3}=1\\\\\n",
        "⟹ c&=3\n",
        "\\end{align*}\n",
        "$$\n",
        "\n",
        "Por lo tanto $c_x=2$ y $c_y=3$"
      ],
      "metadata": {
        "id": "qqrrHxLIyPub"
      }
    },
    {
      "cell_type": "markdown",
      "source": [
        "$$\n",
        "  f_X(x) =\n",
        "  \\begin{cases}\n",
        "                                   2x & \\text{if $0 \\le x \\le 1$} \\\\\n",
        "                                   0 & \\text{else}\n",
        "  \\end{cases}\n",
        "$$\n",
        "$$\n",
        "  f_Y(y) =\n",
        "  \\begin{cases}\n",
        "                                   3y^2 & \\text{if $0 \\le x \\le 1$} \\\\\n",
        "                                   0 & \\text{else}\n",
        "  \\end{cases}\n",
        "$$"
      ],
      "metadata": {
        "id": "oAidJGMiTRMG"
      }
    },
    {
      "cell_type": "markdown",
      "source": [
        "**Parte c)**\n",
        "\n",
        "Resuelva para $E[X]$ y $E[Y]$. Muestra tu trabajo."
      ],
      "metadata": {
        "id": "YfOPO8LfyP97"
      }
    },
    {
      "cell_type": "markdown",
      "source": [
        "Sabemos que para el caso de una variable aleatoria contínua, el valor esperado de una variable aleatoria $X$ con distribución $f(x)$ está dado de la siguiente manera:\n",
        "\n",
        "$E[X]=\\int_{-\\infty}^{\\infty} xf(x)dx$\n",
        "\n",
        "Por lo tanto:\n",
        "\n",
        "$$\n",
        "\\begin{align*}\n",
        "E[X]=\\int_{0}^{1}x(2x) dx &=\\int_{0}^{1}2x^2dx\\\\\n",
        "&=\\frac{2}{3}x^3\\bigg|_{0}^{1} \\\\\n",
        "&=\\frac{2}{3}\n",
        "\\end{align*}\n",
        "$$\n",
        "\n",
        "$$\n",
        "\\begin{align*}\n",
        "E[Y]=\\int_{0}^{1}y(3y^2) dy &=\\int_{0}^{1}3y^3dy\\\\\n",
        "&=\\frac{3}{4}y^4\\bigg|_{0}^{1} \\\\\n",
        "&=\\frac{3}{4}\n",
        "\\end{align*}\n",
        "$$"
      ],
      "metadata": {
        "id": "0aCFxNJayThS"
      }
    },
    {
      "cell_type": "code",
      "source": [
        "Respuesta30<-round(2/3,2) #Ex\n",
        "Respuesta31<-3/4 #Ey\n",
        "Respuesta30\n",
        "Respuesta31"
      ],
      "metadata": {
        "id": "qZT3AIW0yTpr",
        "colab": {
          "base_uri": "https://localhost:8080/",
          "height": 52
        },
        "outputId": "b36a7151-ad06-4ee4-9b5f-6914eff472ca"
      },
      "execution_count": null,
      "outputs": [
        {
          "output_type": "display_data",
          "data": {
            "text/html": [
              "0.67"
            ],
            "text/markdown": "0.67",
            "text/latex": "0.67",
            "text/plain": [
              "[1] 0.67"
            ]
          },
          "metadata": {}
        },
        {
          "output_type": "display_data",
          "data": {
            "text/html": [
              "0.75"
            ],
            "text/markdown": "0.75",
            "text/latex": "0.75",
            "text/plain": [
              "[1] 0.75"
            ]
          },
          "metadata": {}
        }
      ]
    },
    {
      "cell_type": "markdown",
      "source": [
        "**Parte d)**\n",
        "\n",
        "Usando el PDF conjunto, resuelva para $E[XY]$. Muestra tu trabajo."
      ],
      "metadata": {
        "id": "mTK3p7y3yT1E"
      }
    },
    {
      "cell_type": "markdown",
      "source": [
        "$$\n",
        "\\begin{align*}\n",
        "E[XY]=\\int_{0}^{1}\\int_{0}^{1}xy(6xy^2) dxdy &=6\\int_{0}^{1}\\int_{0}^{1}x^2y^3dxdy\\\\\n",
        "&=6\\int_{0}^{1}x^2dx\\int_{0}^{1}y^3dy\\\\\n",
        "&=6\\left(\\frac{1}{3}x^3\\bigg|_{0}^{1}\\right)\\left(\\frac{1}{4}y^4\\bigg|_{0}^{1}\\right) \\\\\n",
        "&=6\\left(\\frac{1}{3}\\right)\\left(\\frac{1}{4}\\right)\\\\\n",
        "&=\\frac{1}{2}\n",
        "\\end{align*}\n",
        "$$"
      ],
      "metadata": {
        "id": "I6c026wjyXk3"
      }
    },
    {
      "cell_type": "code",
      "source": [
        "Respuesta32<-0.5 #Exy\n",
        "Respuesta32"
      ],
      "metadata": {
        "id": "ZhbCmyDGyXur",
        "colab": {
          "base_uri": "https://localhost:8080/",
          "height": 34
        },
        "outputId": "b80fed49-69bb-4268-bff8-2e90296d506e"
      },
      "execution_count": null,
      "outputs": [
        {
          "output_type": "display_data",
          "data": {
            "text/html": [
              "0.5"
            ],
            "text/markdown": "0.5",
            "text/latex": "0.5",
            "text/plain": [
              "[1] 0.5"
            ]
          },
          "metadata": {}
        }
      ]
    },
    {
      "cell_type": "markdown",
      "source": [
        "**Parte e)**\n",
        "\n",
        "¿Son $X$ y $Y$ independientes?"
      ],
      "metadata": {
        "id": "MGA4WcICyX18"
      }
    },
    {
      "cell_type": "markdown",
      "source": [
        "Sí, ya que la función de distribucion de probabilidad $f(x,y) =f_X(x)\\cdot f_Y(y)$ además se cumple la siguiente relación con el valor esperado.\n",
        "\n",
        "$$\n",
        "\\begin{align*}\n",
        "E[XY]=E[X]E[Y]=\\left( \\frac{2}{3} \\right)\\left( \\frac{3}{4} \\right)=\\frac{1}{2}\n",
        "\\end{align*}\n",
        "$$"
      ],
      "metadata": {
        "id": "bLha7vt3ycAq"
      }
    },
    {
      "cell_type": "markdown",
      "source": [
        "# Variables aleatorias normales y el CLT"
      ],
      "metadata": {
        "id": "xr7ZMJG70jFx"
      }
    },
    {
      "cell_type": "markdown",
      "source": [
        "### Problema 1\n",
        "\n",
        "Supongamos que $X$ y $Y$ son variables aleatorias normales independientes con la misma media $\\mu$ y la misma varianza $\\sigma^2$. ¿Las variables aleatorias $W = X + Y$ y $U=2X$ tienen la misma distribución? Explica"
      ],
      "metadata": {
        "id": "L2KOG2Pa0jpX"
      }
    },
    {
      "cell_type": "markdown",
      "source": [
        "No. No tienen la misma distribución porque el hecho de que las variables sean idénticas no quiere decir que las salidas serían las mismas, es decir, si $W=X+Y$, la salida de $W$ resultan ser la suma de $X$ y $Y$ las cuales no tienen porque ser iguales, sin embargo si $U=2X$ implica que la salida de $W$ es el doble que la salida de $X$.\n",
        "\n",
        "De hecho el TLC asegura que a medida que se suman variables iid la resultante converge a una normal.\n",
        "\n",
        "Ejemplo : Sean $X_1$ y $X_2$ las variables aleatorias correspondientes a dados justos tales que $E[X_1]=E[X_2]$ y $V[X_1]=V[X_2]$.\n",
        "Sea $Y=X_1+X_2$ la variable aleatoria correspindiente a lanzar dos dados al mismo tiempo, y sea $Z=2X_1$ la variable aleatoria cuya salida es el doble de lo que marque el dado que se lanza, es decir: $X(x=n)=2*n$\n"
      ],
      "metadata": {
        "id": "6IU3lJuW00ne"
      }
    },
    {
      "cell_type": "code",
      "source": [
        "Dados<-function(N){\n",
        "  X<-c(1,2,3,4,5,6)\n",
        "  lanzamientos<-c(0,0,0,0,0,0,0,0,0,0,0)\n",
        "  for (i in 1:N){\n",
        "    x1<-sample(X,1,TRUE)\n",
        "    x2<-sample(X,1,TRUE)\n",
        "    x<-x1+x2\n",
        "\n",
        "    if(x==2){\n",
        "      lanzamientos[1]<-lanzamientos[1]+1\n",
        "      }\n",
        "    if(x==3){\n",
        "      lanzamientos[2]<-lanzamientos[2]+1\n",
        "      }\n",
        "    if(x==4){\n",
        "      lanzamientos[3]<-lanzamientos[3]+1\n",
        "      }\n",
        "    if(x==5){\n",
        "      lanzamientos[4]<-lanzamientos[4]+1\n",
        "      }\n",
        "    if(x==6){\n",
        "      lanzamientos[5]<-lanzamientos[5]+1\n",
        "      }\n",
        "    if(x==7){\n",
        "      lanzamientos[6]<-lanzamientos[6]+1\n",
        "      }\n",
        "    if(x==8){\n",
        "      lanzamientos[7]<-lanzamientos[7]+1\n",
        "      }\n",
        "    if(x==9){\n",
        "      lanzamientos[8]<-lanzamientos[8]+1\n",
        "      }\n",
        "    if(x==10){\n",
        "      lanzamientos[9]<-lanzamientos[9]+1\n",
        "      }\n",
        "    if(x==11){\n",
        "      lanzamientos[10]<-lanzamientos[10]+1\n",
        "      }\n",
        "    if(x==12){\n",
        "      lanzamientos[11]<-lanzamientos[11]+1\n",
        "      }\n",
        "  }\n",
        "  for (i in 1:11){\n",
        "     lanzamientos[i]<-lanzamientos[i]/N\n",
        "  }\n",
        "  lanzamientos\n",
        "  barplot(lanzamientos, names.arg = c(\"2\", \"3\", \"4\",\"5\", \"6\", \"7\",\"8\", \"9\", \"10\",\"11\", \"12\"),main=\"Lanzamiento de dos dados\",ylab=\"Probabilidad\")\n",
        "}\n",
        "Dados(1000)"
      ],
      "metadata": {
        "colab": {
          "base_uri": "https://localhost:8080/",
          "height": 437
        },
        "id": "j9go_Q9cBDla",
        "outputId": "46ee125b-ab5b-4527-bbf9-ffef8de7d747"
      },
      "execution_count": null,
      "outputs": [
        {
          "output_type": "display_data",
          "data": {
            "text/plain": [
              "Plot with title “Lanzamiento de dos dados”"
            ],
            "image/png": "[encoded data removed]"
          },
          "metadata": {
            "image/png": {
              "width": 420,
              "height": 420
            }
          }
        }
      ]
    },
    {
      "cell_type": "code",
      "source": [
        "Dados<-function(N){\n",
        "  X<-c(1,2,3,4,5,6)\n",
        "  lanzamiento<-c(0,0,0,0,0,0)\n",
        "  for (i in 1:N){\n",
        "    x<-sample(X,1,TRUE)\n",
        "    if(x==1){\n",
        "      lanzamiento[1]<-lanzamiento[1]+1\n",
        "      }\n",
        "    if(x==2){\n",
        "      lanzamiento[2]<-lanzamiento[2]+1\n",
        "      }\n",
        "    if(x==3){\n",
        "      lanzamiento[3]<-lanzamiento[3]+1\n",
        "      }\n",
        "    if(x==4){\n",
        "      lanzamiento[4]<-lanzamiento[4]+1\n",
        "      }\n",
        "    if(x==5){\n",
        "      lanzamiento[5]<-lanzamiento[5]+1\n",
        "      }\n",
        "    if(x==6){\n",
        "      lanzamiento[6]<-lanzamiento[6]+1\n",
        "      }\n",
        "  }\n",
        "  for (i in 1:6){\n",
        "     lanzamiento[i]<-lanzamiento[i]/N\n",
        "  }\n",
        "  lanzamiento\n",
        "  barplot(lanzamiento, names.arg = c(\"2\",\"4\", \"6\", \"8\",\"10\",\"12\"),main=\"Lanzamiento de un dado\",ylab=\"Probabilidad\")\n",
        "}\n",
        "Dados(1000)"
      ],
      "metadata": {
        "colab": {
          "base_uri": "https://localhost:8080/",
          "height": 437
        },
        "id": "Qh0pMdp2IIIM",
        "outputId": "613779ac-cfda-43fb-a9a6-88e10e3f253a"
      },
      "execution_count": null,
      "outputs": [
        {
          "output_type": "display_data",
          "data": {
            "text/plain": [
              "Plot with title “Lanzamiento de un dado”"
            ],
            "image/png": "[encoded data removed]"
          },
          "metadata": {
            "image/png": {
              "width": 420,
              "height": 420
            }
          }
        }
      ]
    },
    {
      "cell_type": "markdown",
      "source": [
        "Podemos notar através de las gráficas que las variables aleatorias no tienen la misma distribución."
      ],
      "metadata": {
        "id": "pkC5STk6PeFv"
      }
    },
    {
      "cell_type": "markdown",
      "source": [
        "### Problema 2: Teorema del Límite Central y Simulación\n",
        "\n",
        "**a)** Para este problema, tomaremos muestras de la distribución uniforme con límites [0, 100]. Antes de simular algo, asegurate de entender qué valores esperar. Si $X \\sim U(0, 100)$, ¿cuál es $E[X]$ y $Var(X)$?"
      ],
      "metadata": {
        "id": "fB3eQGIG003u"
      }
    },
    {
      "cell_type": "markdown",
      "source": [
        "Sabemos que la variable aleatoria uniforme tiene una función de distribución dada de la siguiente manera:\n",
        "\n",
        "\n",
        "$$\n",
        "  f(x) =\n",
        "  \\begin{cases}\n",
        "                                   \\frac{1}{b-a} & \\text{if $a \\le x \\le b  $} \\\\\n",
        "                                   0 & \\text{else}\n",
        "  \\end{cases}\n",
        "$$\n",
        "\n",
        "Con $E[X]=\\frac{b-a}{2}$ y $V[X]=\\frac{(b-a)^2}{12}$\n",
        "\n",
        "Por lo tanto se tiene que:\n",
        "\n",
        "$$\n",
        "\\begin{align*}\n",
        "E[X]&=50  &  V[X]=833.33\n",
        "\\end{align*}\n",
        "$$\n"
      ],
      "metadata": {
        "id": "OXmDcdhg1C-k"
      }
    },
    {
      "cell_type": "code",
      "source": [
        "Respuesta33<-50 #E[X]\n",
        "Respuesta34<-833.33 #V[X]"
      ],
      "metadata": {
        "id": "diKm-ryk1DHu"
      },
      "execution_count": null,
      "outputs": []
    },
    {
      "cell_type": "markdown",
      "source": [
        "**b)** En la vida real, si queremos estimar la media de una población, tenemos que extraer una muestra de esa población y calcular la media muestral. Las preguntas importantes que tenemos que hacer son cosas como:\n",
        "\n",
        "* ¿Es la media muestral una buena aproximación de la media poblacional?\n",
        "* ¿Qué tan grande debe ser mi muestra para que la media de la muestra se aproxime bien a la media de la población?\n",
        "\n",
        "Escriba una función para muestrear $n$ datos de la distribución $U(0, 100)$ y que devuelva la media de la muestra. Comienza con un tamaño de muestra de 10 y extrae la media de la muestra. ¿Es la media estimada una buena aproximación para la media poblacional que calculamos arriba? ¿Qué pasa si aumentas el tamaño de la muestra?"
      ],
      "metadata": {
        "id": "GFIoYPa41DRh"
      }
    },
    {
      "cell_type": "markdown",
      "source": [],
      "metadata": {
        "id": "7Ukiz1th1nfG"
      }
    },
    {
      "cell_type": "code",
      "source": [
        "MediaMuestral<-function(n){\n",
        "  U<-runif(n,0,100)\n",
        "  mean(U)\n",
        "}\n",
        "print(paste(\"n=\",10,\"Media=\",MediaMuestral(10)))\n",
        "print(paste(\"n=\",25,\"Media=\",MediaMuestral(25)))\n",
        "print(paste(\"n=\",50,\"Media=\",MediaMuestral(50)))\n",
        "print(paste(\"n=\",75,\"Media=\",MediaMuestral(75)))\n",
        "print(paste(\"n=\",100,\"Media=\",MediaMuestral(100)))\n",
        "print(paste(\"n=\",250,\"Media=\",MediaMuestral(250)))\n",
        "print(paste(\"n=\",500,\"Media=\",MediaMuestral(500)))\n",
        "print(paste(\"n=\",750,\"Media=\",MediaMuestral(750)))\n",
        "print(paste(\"n=\",1000,\"Media=\",MediaMuestral(1000)))"
      ],
      "metadata": {
        "colab": {
          "base_uri": "https://localhost:8080/"
        },
        "id": "XETxf1KA2c26",
        "outputId": "2a1a1e74-c29c-45f6-ace6-b7831ad2e39c"
      },
      "execution_count": null,
      "outputs": [
        {
          "output_type": "stream",
          "name": "stdout",
          "text": [
            "[1] \"n= 10 Media= 56.2511624069884\"\n",
            "[1] \"n= 25 Media= 56.4586461894214\"\n",
            "[1] \"n= 50 Media= 48.5294401803985\"\n",
            "[1] \"n= 75 Media= 48.0025475164875\"\n",
            "[1] \"n= 100 Media= 51.6417496101931\"\n",
            "[1] \"n= 250 Media= 49.2688169229776\"\n",
            "[1] \"n= 500 Media= 50.1472997591365\"\n",
            "[1] \"n= 750 Media= 48.6945368620567\"\n",
            "[1] \"n= 1000 Media= 49.5549183362862\"\n"
          ]
        }
      ]
    },
    {
      "cell_type": "markdown",
      "source": [
        "Una muestra de 10 datos sí es una buena medida ya que la desviación es $\\delta_{n}=|E_{muestral}[X]-E_{poblacional}[X]|\\leq 10$ en la mayoría de los casos en los que se toma la muestra. Podemos notar que a medida que $n$ aumenta la media muestral se acerca a la media poblacional y $\\delta_{n}→0$."
      ],
      "metadata": {
        "id": "reOnFO6y5vcT"
      }
    },
    {
      "cell_type": "markdown",
      "source": [
        "**c)** Para un tamaño de muestra de $n$, la función devuelve un estimador de la forma\n",
        "\n",
        "$$\n",
        "\\bar{X} = \\frac{1}{n}\\sum_{i=1}^n X_i\n",
        "$$\n",
        "\n",
        "Eso significa que si cada $X_i$ es una variable aleatoria, entonces nuestra media muestral también es una variable aleatoria con su propia distribución. A esta distribución la llamamos distribución muestral. Veamos cómo se ve esta distribución.\n",
        "\n",
        "Usando la función `uniform.sample.mean`, simule $m=1000$ promedios, cada uno de una muestra de tamaño $n=10$. Crea un histograma de estos promedios de la muestra. Luego aumenta el valor de $n$ y traza el histograma de estos promedios muestrales. ¿Qué notas sobre la distribución de $\\bar{X}$? ¿Cuál es la media $\\mu$ y la varianza $\\sigma^2$ de la distribución muestral?"
      ],
      "metadata": {
        "id": "Ch2PKPjZ1nzC"
      }
    },
    {
      "cell_type": "markdown",
      "source": [],
      "metadata": {
        "id": "KxfcIPYF2OsX"
      }
    },
    {
      "cell_type": "code",
      "source": [
        "Promedios<-function(n){\n",
        "X<-c() #vector de promedios\n",
        "  for (i in 1:1000){\n",
        "    X<-c(X,mean(runif(n,0,100))) #cada entrada es un promedio de la una muestra de 10 datos de U(0,100)\n",
        "  }\n",
        "  hist(x = X, main = \"X=X1+X2+...+Xn\",\n",
        "  xlab = \"x\",xlim=c(20,80), ylab = \"Frecuencia\",\n",
        "  col = \"#9BCD9B\",freq=FALSE)\n",
        "  abline(v=c(mean(X),mean(X)-sd(X),mean(X)+sd(X),mean(X)-2*sd(X),mean(X)+2*sd(X)), col=c(\"darkslategray\",\"#698B69\",\"#698B69\",\"#B4EEB4\",\"#B4EEB4\"), lty=c(1,3,3,3,3), lwd=c(3,3,3,3,3))\n",
        "  print(paste(\"Media: \",round(mean(X),4),\"Desviación estándar: \", round(sd(X),4)))\n",
        "}"
      ],
      "metadata": {
        "id": "ZVGuWhu_2O1Z"
      },
      "execution_count": null,
      "outputs": []
    },
    {
      "cell_type": "code",
      "source": [
        "Promedios(10)"
      ],
      "metadata": {
        "colab": {
          "base_uri": "https://localhost:8080/",
          "height": 454
        },
        "id": "AlmKhYJj-ipd",
        "outputId": "a72bf93d-7a48-4f47-879b-c0123a74cbd7"
      },
      "execution_count": null,
      "outputs": [
        {
          "output_type": "stream",
          "name": "stdout",
          "text": [
            "[1] \"Media:  49.7761 Desviación estándar:  8.6836\"\n"
          ]
        },
        {
          "output_type": "display_data",
          "data": {
            "text/plain": [
              "Plot with title “X=X1+X2+...+Xn”"
            ],
            "image/png": "[encoded data removed]"
          },
          "metadata": {
            "image/png": {
              "width": 420,
              "height": 420
            }
          }
        }
      ]
    },
    {
      "cell_type": "code",
      "source": [
        "Promedios(100)"
      ],
      "metadata": {
        "colab": {
          "base_uri": "https://localhost:8080/",
          "height": 454
        },
        "id": "qfwwhKHHHtrp",
        "outputId": "7adc8e36-36a2-46a9-c2f0-14029ef5a33d"
      },
      "execution_count": null,
      "outputs": [
        {
          "output_type": "stream",
          "name": "stdout",
          "text": [
            "[1] \"Media:  50.0454 Desviación estándar:  2.9225\"\n"
          ]
        },
        {
          "output_type": "display_data",
          "data": {
            "text/plain": [
              "Plot with title “X=X1+X2+...+Xn”"
            ],
            "image/png": "[encoded data removed]"
          },
          "metadata": {
            "image/png": {
              "width": 420,
              "height": 420
            }
          }
        }
      ]
    },
    {
      "cell_type": "code",
      "source": [
        "Promedios(1000)"
      ],
      "metadata": {
        "colab": {
          "base_uri": "https://localhost:8080/",
          "height": 454
        },
        "id": "J0v20DVwHvJh",
        "outputId": "92ea33c5-7f38-4265-c53b-762664215c2b"
      },
      "execution_count": null,
      "outputs": [
        {
          "output_type": "stream",
          "name": "stdout",
          "text": [
            "[1] \"Media:  50.0017 Desviación estándar:  0.9124\"\n"
          ]
        },
        {
          "output_type": "display_data",
          "data": {
            "text/plain": [
              "Plot with title “X=X1+X2+...+Xn”"
            ],
            "image/png": "[encoded data removed]"
          },
          "metadata": {
            "image/png": {
              "width": 420,
              "height": 420
            }
          }
        }
      ]
    },
    {
      "cell_type": "markdown",
      "source": [
        "Podemos apreciar que la media practicamente no cambia, caso contrario a la desviación estándar, la cual disminuye, provocando la disminución en la dispersión de los datos."
      ],
      "metadata": {
        "id": "GJUBK6yJILfv"
      }
    },
    {
      "cell_type": "markdown",
      "source": [
        "**d)** Recuerda que nuestra distribución de población subyacente es $U(0, 100)$. Intente cambiar la distribución subyacente (por ejemplo, una $Bin(10, 0,5)$) y verifica la distribución muestral. Asegúrate de explicar lo que notas."
      ],
      "metadata": {
        "id": "8zBB32bM2PHT"
      }
    },
    {
      "cell_type": "markdown",
      "source": [],
      "metadata": {
        "id": "UeA3lAa62eSr"
      }
    },
    {
      "cell_type": "code",
      "source": [
        "Promedios2<-function(h){\n",
        "X<-c() #vector de promedios\n",
        "  for (i in 1:1000){\n",
        "    X<-c(X,mean(rbinom(h,10,0.5))) #cada entrada es un promedio de la una muestra de n datos de B(n=10,p=0.5)\n",
        "  }\n",
        "  hist(x = X, main = \"X=X1+X2+...+Xn\",\n",
        "  xlab = \"x\",xlim=c(0,10), ylab = \"Frecuencia\",\n",
        "  col = \"#CAE1FF\",freq=FALSE)\n",
        "  abline(v=c(mean(X),mean(X)-sd(X),mean(X)+sd(X),mean(X)-2*sd(X),mean(X)+2*sd(X)), col=c(\"#607B8B\",\"#A2B5CD\",\"#A2B5CD\",\"#CAE1FF\",\"#CAE1FF\"), lty=c(1,3,3,3,3), lwd=c(3,3,3,3,3))\n",
        "  print(paste(\"Media: \",round(mean(X),4),\"Desviación estándar: \", round(sd(X),4)))\n",
        "}"
      ],
      "metadata": {
        "id": "cLKVHaQ42ebC"
      },
      "execution_count": null,
      "outputs": []
    },
    {
      "cell_type": "code",
      "source": [
        "Promedios2(10)"
      ],
      "metadata": {
        "colab": {
          "base_uri": "https://localhost:8080/",
          "height": 454
        },
        "id": "kAt1xfXTPqWZ",
        "outputId": "307ae3ac-c502-4d0e-bcd7-2a260d2b1b21"
      },
      "execution_count": null,
      "outputs": [
        {
          "output_type": "stream",
          "name": "stdout",
          "text": [
            "[1] \"Media:  4.9987 Desviación estándar:  0.5148\"\n"
          ]
        },
        {
          "output_type": "display_data",
          "data": {
            "text/plain": [
              "Plot with title “X=X1+X2+...+Xn”"
            ],
            "image/png": "[encoded data removed]"
          },
          "metadata": {
            "image/png": {
              "width": 420,
              "height": 420
            }
          }
        }
      ]
    },
    {
      "cell_type": "code",
      "source": [
        "Promedios2(30)"
      ],
      "metadata": {
        "colab": {
          "base_uri": "https://localhost:8080/",
          "height": 454
        },
        "id": "qtCRSTUNPw0R",
        "outputId": "d4b3687a-9346-4cb2-fdca-27a82748d7ed"
      },
      "execution_count": null,
      "outputs": [
        {
          "output_type": "stream",
          "name": "stdout",
          "text": [
            "[1] \"Media:  5.0111 Desviación estándar:  0.294\"\n"
          ]
        },
        {
          "output_type": "display_data",
          "data": {
            "text/plain": [
              "Plot with title “X=X1+X2+...+Xn”"
            ],
            "image/png": "[encoded data removed]"
          },
          "metadata": {
            "image/png": {
              "width": 420,
              "height": 420
            }
          }
        }
      ]
    },
    {
      "cell_type": "code",
      "source": [
        "Promedios2(100)"
      ],
      "metadata": {
        "colab": {
          "base_uri": "https://localhost:8080/",
          "height": 454
        },
        "id": "2NBELrZPMkMu",
        "outputId": "6ab89a76-273f-4a34-83f4-3aa1f772e27f"
      },
      "execution_count": null,
      "outputs": [
        {
          "output_type": "stream",
          "name": "stdout",
          "text": [
            "[1] \"Media:  4.9968 Desviación estándar:  0.1577\"\n"
          ]
        },
        {
          "output_type": "display_data",
          "data": {
            "text/plain": [
              "Plot with title “X=X1+X2+...+Xn”"
            ],
            "image/png": "[encoded data removed]"
          },
          "metadata": {
            "image/png": {
              "width": 420,
              "height": 420
            }
          }
        }
      ]
    },
    {
      "cell_type": "markdown",
      "source": [
        "Se puede apreciar cuando el número de variables aleatorias que se promedian es $n=1$ la funcíón sigue una distribución $Bin(n=10,p=0.5)$ sin embargo al considerar un promedio con n mayor, la distrbución cambia. A medida que aumenta $n$ el valor de $\\mu$ no cambia significativamente, sin embargo $\\sigma$ sí disminuye considerablemente, tal como lo muestra la teoría $\\sigma_X=\\frac{\\sigma}{\\sqrt{n}}$. Por lo cual la función de distribución se vuelve más angosta."
      ],
      "metadata": {
        "id": "0RtN8TLrMxCO"
      }
    },
    {
      "cell_type": "markdown",
      "source": [
        "### Problema 3\n",
        "\n",
        "Sea $X$ una variable aleatoria para el valor nominal de un dado justo de $d$ lados después de una sola tirada. $X$ sigue una distribución uniforme discreta de la forma $\\textrm{unif}\\{1,d\\}$. A continuación se muestra la media y la varianza de $\\textrm{unif}\\{1,d\\}$.\n",
        "\n",
        "$$ E[X] = \\dfrac{1+d}{2} \\qquad Var(X) = \\dfrac{(d- 1 + 1)^2 - 1}{12}$$\n",
        "\n",
        "**a)** Sea $\\bar{X}_n$ la variable aleatoria para la media de $n$ tiradas del dado. Con base en el Teorema del Límite Central, ¿qué distribución sigue $\\bar{X}_n$ cuando $d=6$?"
      ],
      "metadata": {
        "id": "v40C2RQX2ekR"
      }
    },
    {
      "cell_type": "markdown",
      "source": [
        "Sabemos que el teorema del límite central indica que para $X_1,X_2,...,X_n$ variables iid con $E[X_i]=\\mu$ y $Var[X_i]=\\sigma^2$ entonces $\\bar{X}\\sim N(\\mu,\\frac{\\sigma^2}{n})$, por lo tanto\n",
        "\n",
        "$$\n",
        "\\begin{align*}\n",
        "\\bar{X}\\sim N\\left(\\frac{1+d}{2}, \\frac{d^2-1}{12\\cdot n} \\right)\n",
        "\\end{align*}\n",
        "$$\n",
        "\n",
        "Por lo tanto, para el caso de $d=6$ se tiene la siguiente $\\bar{X}$:\n",
        "\n",
        "$$\n",
        "\\begin{align*}\n",
        "\\bar{X}\\sim N\\left(\\frac{7}{2}, \\frac{35}{12n} \\right)\n",
        "\\end{align*}\n",
        "$$"
      ],
      "metadata": {
        "id": "Vm4Mw46L2ztv"
      }
    },
    {
      "cell_type": "code",
      "source": [
        "dado<-function(n){\n",
        "  set.seed(100)\n",
        "  X<-rnorm(n, mean = 3.5, sd = (35/(12*n))**0.5 )\n",
        "  hist(x = X, main = \"X=N(μ,σ²/n)\",\n",
        "     xlab = \"x\", ylab = \"Frecuencia\",\n",
        "     col = \"lightgreen\")\n",
        "}"
      ],
      "metadata": {
        "id": "TBEAiU0FH97w"
      },
      "execution_count": null,
      "outputs": []
    },
    {
      "cell_type": "code",
      "source": [
        "dado(1000)"
      ],
      "metadata": {
        "colab": {
          "base_uri": "https://localhost:8080/",
          "height": 437
        },
        "id": "9oscW7pDWbLI",
        "outputId": "d43df989-a410-46c4-b35c-ef420106039c"
      },
      "execution_count": null,
      "outputs": [
        {
          "output_type": "display_data",
          "data": {
            "text/plain": [
              "Plot with title “X=N(μ,σ²/n)”"
            ],
            "image/png": "[encoded data removed]"
          },
          "metadata": {
            "image/png": {
              "width": 420,
              "height": 420
            }
          }
        }
      ]
    },
    {
      "cell_type": "markdown",
      "source": [
        "**b)** Genera $n=1000$ tiradas del dado, con $d=6$. Calcula el promedio móvil de tus tiradas del dado. En otras palabras, cree una matriz $r$ tal que:\n",
        "\n",
        "$$ r[j] = \\sum_{i=1}^j \\dfrac{X_i}{j} $$\n",
        "\n",
        "Finalmente, traza el promedio móvil por el número de iteraciones. ¿Que notaste?"
      ],
      "metadata": {
        "id": "SMt-k6532z-c"
      }
    },
    {
      "cell_type": "markdown",
      "source": [],
      "metadata": {
        "id": "DKopH_Zj23mk"
      }
    },
    {
      "cell_type": "code",
      "source": [
        "x<-c() #creamos un vector vacío en donde en cada entrada representará el outcome de un dado\n",
        "for (i in 1:1000){\n",
        "  d<-sample(1:6,1,replace=TRUE) #simula el lazamiento del i-ésimo dado\n",
        "  x<-c(x,d) #se agrega el outcome del i-ésimo dado en la i-ésima entrada del vector X\n",
        "  }\n",
        "\n",
        "r<-c() #creamos el vector vacío r\n",
        "s<-0 #creamos la varlable s\n",
        "for (i in 1:1000){\n",
        "  s<-x[i]+s  #se realiza la suma de los primeros i valores del vector X\n",
        "  r<-c(r,s/i) #Se hace un promedio con esos valores y se agrega a la i-ésima entrada de r\n",
        "}\n",
        "plot(r,type = \"l\",ylim = c(0,6),xlab = \"Lanzamientos\",ylab = \"E[X]\", main = \"Promedio móvil por número de lanzamientos\")\n",
        "abline(h=3.5, lty=\"dotted\",lwd = \"3\",col = \"red\")"
      ],
      "metadata": {
        "colab": {
          "base_uri": "https://localhost:8080/",
          "height": 437
        },
        "id": "K1ZGlMQHdsME",
        "outputId": "3e6a7ffa-4bc0-4685-83c9-9a15574d25a4"
      },
      "execution_count": null,
      "outputs": [
        {
          "output_type": "display_data",
          "data": {
            "text/plain": [
              "Plot with title “Promedio móvil por número de lanzamientos”"
            ],
            "image/png": "[encoded data removed]"
          },
          "metadata": {
            "image/png": {
              "width": 420,
              "height": 420
            }
          }
        }
      ]
    },
    {
      "cell_type": "markdown",
      "source": [
        "Podemos notar que al aumentar el número de iteraciones, el valor de $E[\\bar{X}]$ converge a 3.5 el cual resulta ser $E[X_i]$"
      ],
      "metadata": {
        "id": "3ejPB-h_V_rJ"
      }
    }
  ]
}